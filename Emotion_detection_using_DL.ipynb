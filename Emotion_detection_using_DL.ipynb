{
 "cells": [
  {
   "cell_type": "code",
   "execution_count": 1,
   "id": "7e7883ba",
   "metadata": {},
   "outputs": [],
   "source": [
    "import numpy as np\n",
    "import tensorflow as tf\n",
    "import pandas as pd\n",
    "import matplotlib.pyplot as plt\n",
    "import seaborn as sns\n",
    "\n",
    "from sklearn.metrics import confusion_matrix, accuracy_score, f1_score\n",
    "from sklearn.model_selection import train_test_split\n",
    "\n",
    "# preparing input to our model\n",
    "from keras.preprocessing.text import Tokenizer\n",
    "from keras.preprocessing.sequence import pad_sequences\n",
    "from tensorflow.keras.utils import to_categorical\n",
    "\n",
    "# keras layers\n",
    "from keras.models import Sequential\n",
    "from keras.layers import Embedding, Bidirectional, LSTM, GRU, Dense\n",
    "\n",
    "from nltk.tokenize import word_tokenize\n",
    "\n",
    "from sklearn.datasets import fetch_20newsgroups\n",
    "from sklearn.feature_extraction.text import TfidfVectorizer\n",
    "from sklearn import metrics\n",
    "from scipy.sparse import csr_matrix\n",
    "\n",
    "from sklearn.preprocessing import OneHotEncoder, LabelEncoder\n",
    "from numpy import array, argmax"
   ]
  },
  {
   "cell_type": "code",
   "execution_count": 70,
   "id": "1c004661",
   "metadata": {},
   "outputs": [],
   "source": [
    "# Number of labels: joy, anger, fear, sadness, neutral\n",
    "num_classes = 5\n",
    "\n",
    "embed_num_dims = 300\n",
    "max_seq_len = 500\n",
    "class_names = ['joy', 'fear', 'anger', 'sadness', 'neutral']"
   ]
  },
  {
   "cell_type": "code",
   "execution_count": 74,
   "id": "9291baf8",
   "metadata": {},
   "outputs": [],
   "source": [
    "data_train = pd.read_csv('Data/Train_data.csv', encoding='utf-8')\n",
    "data_test = pd.read_csv('Data/Test_data.csv', encoding='utf-8')\n",
    "\n",
    "X_train = data_train.Text\n",
    "X_test = data_test.Text\n",
    "\n",
    "y_train = data_train.Emotion\n",
    "y_test = data_test.Emotion\n",
    "\n",
    "data = data_train.append(data_test, ignore_index=True)"
   ]
  },
  {
   "cell_type": "code",
   "execution_count": 75,
   "id": "2de4510b",
   "metadata": {},
   "outputs": [
    {
     "name": "stdout",
     "output_type": "stream",
     "text": [
      "joy        15027\n",
      "sadness    13307\n",
      "anger       6924\n",
      "fear        6162\n",
      "neutral     3654\n",
      "Name: Emotion, dtype: int64\n"
     ]
    },
    {
     "data": {
      "text/html": [
       "<div>\n",
       "<style scoped>\n",
       "    .dataframe tbody tr th:only-of-type {\n",
       "        vertical-align: middle;\n",
       "    }\n",
       "\n",
       "    .dataframe tbody tr th {\n",
       "        vertical-align: top;\n",
       "    }\n",
       "\n",
       "    .dataframe thead th {\n",
       "        text-align: right;\n",
       "    }\n",
       "</style>\n",
       "<table border=\"1\" class=\"dataframe\">\n",
       "  <thead>\n",
       "    <tr style=\"text-align: right;\">\n",
       "      <th></th>\n",
       "      <th>Emotion</th>\n",
       "      <th>Text</th>\n",
       "    </tr>\n",
       "  </thead>\n",
       "  <tbody>\n",
       "    <tr>\n",
       "      <th>0</th>\n",
       "      <td>neutral</td>\n",
       "      <td>There are tons of other paintings that I thin...</td>\n",
       "    </tr>\n",
       "    <tr>\n",
       "      <th>1</th>\n",
       "      <td>sadness</td>\n",
       "      <td>Yet the dog had grown old and less capable , a...</td>\n",
       "    </tr>\n",
       "    <tr>\n",
       "      <th>2</th>\n",
       "      <td>fear</td>\n",
       "      <td>When I get into the tube or the train without ...</td>\n",
       "    </tr>\n",
       "    <tr>\n",
       "      <th>3</th>\n",
       "      <td>fear</td>\n",
       "      <td>This last may be a source of considerable disq...</td>\n",
       "    </tr>\n",
       "    <tr>\n",
       "      <th>4</th>\n",
       "      <td>anger</td>\n",
       "      <td>She disliked the intimacy he showed towards so...</td>\n",
       "    </tr>\n",
       "    <tr>\n",
       "      <th>5</th>\n",
       "      <td>sadness</td>\n",
       "      <td>When my family heard that my Mother's cousin w...</td>\n",
       "    </tr>\n",
       "  </tbody>\n",
       "</table>\n",
       "</div>"
      ],
      "text/plain": [
       "   Emotion                                               Text\n",
       "0  neutral   There are tons of other paintings that I thin...\n",
       "1  sadness  Yet the dog had grown old and less capable , a...\n",
       "2     fear  When I get into the tube or the train without ...\n",
       "3     fear  This last may be a source of considerable disq...\n",
       "4    anger  She disliked the intimacy he showed towards so...\n",
       "5  sadness  When my family heard that my Mother's cousin w..."
      ]
     },
     "execution_count": 75,
     "metadata": {},
     "output_type": "execute_result"
    }
   ],
   "source": [
    "print(data.Emotion.value_counts())\n",
    "data.head(6)"
   ]
  },
  {
   "cell_type": "code",
   "execution_count": 76,
   "id": "6695844d",
   "metadata": {},
   "outputs": [],
   "source": [
    "#Dropping Null Values\n",
    "\n",
    "data = data.dropna()"
   ]
  },
  {
   "cell_type": "code",
   "execution_count": 78,
   "id": "c5689075",
   "metadata": {},
   "outputs": [
    {
     "data": {
      "text/plain": [
       "<AxesSubplot:xlabel='Emotion', ylabel='count'>"
      ]
     },
     "execution_count": 78,
     "metadata": {},
     "output_type": "execute_result"
    },
    {
     "data": {
      "image/png": "[encoded data removed]",
      "text/plain": [
       "<Figure size 432x288 with 1 Axes>"
      ]
     },
     "metadata": {
      "needs_background": "light"
     },
     "output_type": "display_data"
    }
   ],
   "source": [
    "df = data[data['Emotion'].isin(class_names)]\n",
    "\n",
    "sns.countplot(x = 'Emotion',data = data)"
   ]
  },
  {
   "cell_type": "code",
   "execution_count": 14,
   "id": "b838f95d",
   "metadata": {},
   "outputs": [
    {
     "name": "stderr",
     "output_type": "stream",
     "text": [
      "[nltk_data] Downloading package stopwords to\n",
      "[nltk_data]     C:\\Users\\HP\\AppData\\Roaming\\nltk_data...\n",
      "[nltk_data]   Package stopwords is already up-to-date!\n",
      "[nltk_data] Downloading package wordnet to\n",
      "[nltk_data]     C:\\Users\\HP\\AppData\\Roaming\\nltk_data...\n",
      "[nltk_data]   Package wordnet is already up-to-date!\n",
      "[nltk_data] Downloading package punkt to\n",
      "[nltk_data]     C:\\Users\\HP\\AppData\\Roaming\\nltk_data...\n",
      "[nltk_data]   Package punkt is already up-to-date!\n"
     ]
    },
    {
     "data": {
      "text/plain": [
       "True"
      ]
     },
     "execution_count": 14,
     "metadata": {},
     "output_type": "execute_result"
    }
   ],
   "source": [
    "import re\n",
    "import nltk\n",
    "from nltk.corpus import stopwords\n",
    "from nltk.stem import WordNetLemmatizer\n",
    "from nltk.stem import PorterStemmer\n",
    "\n",
    "nltk.download('stopwords')\n",
    "nltk.download('wordnet')\n",
    "nltk.download('punkt')\n"
   ]
  },
  {
   "cell_type": "markdown",
   "id": "d10b5488",
   "metadata": {},
   "source": [
    "### Preparing Data"
   ]
  },
  {
   "cell_type": "code",
   "execution_count": 27,
   "id": "dbd28d3c",
   "metadata": {},
   "outputs": [],
   "source": [
    "lemmetize = WordNetLemmatizer()\n",
    "def data_prep(data):\n",
    "\n",
    "    data = re.sub('[^a-zA-Z]',' ',data)\n",
    "    data = data.lower()\n",
    "    data = word_tokenize(data)\n",
    "    \n",
    "    #print(data)\n",
    "    return [lemmetize.lemmatize(word) for word in data if word not in set(stopwords.words('english'))]\n",
    "        "
   ]
  },
  {
   "cell_type": "code",
   "execution_count": 28,
   "id": "de0322ac",
   "metadata": {},
   "outputs": [],
   "source": [
    "texts = [' '.join(data_prep(text)) for text in df.Text]\n",
    "\n",
    "texts_train = [' '.join(data_prep(text)) for text in X_train]\n",
    "texts_test = [' '.join(data_prep(text)) for text in X_test]"
   ]
  },
  {
   "cell_type": "code",
   "execution_count": 29,
   "id": "2d6f71cc",
   "metadata": {},
   "outputs": [
    {
     "name": "stdout",
     "output_type": "stream",
     "text": [
      "bit extremely annoyed phone promised would liar\n"
     ]
    }
   ],
   "source": [
    "print(texts_train[92])"
   ]
  },
  {
   "cell_type": "markdown",
   "id": "264638ca",
   "metadata": {},
   "source": [
    "### Tokenization\n"
   ]
  },
  {
   "cell_type": "code",
   "execution_count": 31,
   "id": "e8732100",
   "metadata": {},
   "outputs": [
    {
     "name": "stdout",
     "output_type": "stream",
     "text": [
      "Number of unique words: 7742\n"
     ]
    }
   ],
   "source": [
    "tokenizer = Tokenizer()\n",
    "tokenizer.fit_on_texts(texts)\n",
    "\n",
    "sequence_train = tokenizer.texts_to_sequences(texts_train)\n",
    "sequence_test = tokenizer.texts_to_sequences(texts_test)\n",
    "\n",
    "index_of_words = tokenizer.word_index\n",
    "\n",
    "\n",
    "vocab_size = len(index_of_words) + 1\n",
    "\n",
    "print('Number of unique words: {}'.format(len(index_of_words)))"
   ]
  },
  {
   "cell_type": "code",
   "execution_count": 32,
   "id": "781e3a92",
   "metadata": {},
   "outputs": [
    {
     "data": {
      "text/plain": [
       "array([[   0,    0,    0, ...,  341,   55,   30],\n",
       "       [   0,    0,    0, ...,   90,  593, 5446],\n",
       "       [   0,    0,    0, ...,  192,  240,  365],\n",
       "       ...,\n",
       "       [   0,    0,    0, ...,    0,    0,   96],\n",
       "       [   0,    0,    0, ..., 7742,   46,   34],\n",
       "       [   0,    0,    0, ..., 1477,    2,  437]])"
      ]
     },
     "execution_count": 32,
     "metadata": {},
     "output_type": "execute_result"
    }
   ],
   "source": [
    "X_train_pad = pad_sequences(sequence_train, maxlen = max_seq_len )\n",
    "X_test_pad = pad_sequences(sequence_test, maxlen = max_seq_len )\n",
    "\n",
    "X_train_pad\n",
    "X_test_pad"
   ]
  },
  {
   "cell_type": "code",
   "execution_count": 34,
   "id": "ebf38dea",
   "metadata": {},
   "outputs": [],
   "source": [
    "encoding = {\n",
    "    'joy': 0,\n",
    "    'fear': 1,\n",
    "    'anger': 2,\n",
    "    'sadness': 3,\n",
    "    'neutral': 4\n",
    "}\n",
    "\n",
    "# Integer labels\n",
    "y_train1 = [encoding[x] for x in y_train]#data_train.Emotion]\n",
    "y_test1 = [encoding[x] for x in y_test]#data_test.Emotion]\n"
   ]
  },
  {
   "cell_type": "markdown",
   "id": "a2d3f716",
   "metadata": {},
   "source": [
    "### 2. Importing pre trained word vector\n",
    "\n"
   ]
  },
  {
   "cell_type": "code",
   "execution_count": 36,
   "id": "64172083",
   "metadata": {},
   "outputs": [],
   "source": [
    "def create_embedding_matrix(filepath, word_index, embedding_dim):\n",
    "    vocab_size = len(word_index) + 1  # Adding again 1 because of reserved 0 index\n",
    "    embedding_matrix = np.zeros((vocab_size, embedding_dim))\n",
    "    with open(filepath, encoding='utf8') as f:\n",
    "        for line in f:\n",
    "            word, *vector = line.split()\n",
    "            if word in word_index:\n",
    "                idx = word_index[word] \n",
    "                embedding_matrix[idx] = np.array(vector, dtype=np.float32)[:embedding_dim]\n",
    "    return embedding_matrix"
   ]
  },
  {
   "cell_type": "code",
   "execution_count": 37,
   "id": "dbb4daac",
   "metadata": {},
   "outputs": [
    {
     "data": {
      "text/plain": [
       "(7743, 300)"
      ]
     },
     "execution_count": 37,
     "metadata": {},
     "output_type": "execute_result"
    }
   ],
   "source": [
    "#file = open(fname, encoding=\"cp1252\")\n",
    "fname = 'embeddings/wiki-news-300d-1M.vec'\n",
    "file = open(fname, encoding=\"utf8\")\n",
    "\n",
    "embedd_matrix = create_embedding_matrix(fname, index_of_words, embed_num_dims)\n",
    "embedd_matrix.shape"
   ]
  },
  {
   "cell_type": "code",
   "execution_count": 38,
   "id": "6c58c19e",
   "metadata": {},
   "outputs": [
    {
     "name": "stdout",
     "output_type": "stream",
     "text": [
      "Words found in wiki vocab: 7319\n",
      "New words found: 423\n"
     ]
    }
   ],
   "source": [
    "# Inspect unseen words\n",
    "new_words = 0\n",
    "\n",
    "for word in index_of_words:\n",
    "    entry = embedd_matrix[index_of_words[word]]\n",
    "    if all(v == 0 for v in entry):\n",
    "        new_words = new_words + 1\n",
    "\n",
    "print('Words found in wiki vocab: ' + str(len(index_of_words) - new_words))\n",
    "print('New words found: ' + str(new_words))"
   ]
  },
  {
   "cell_type": "markdown",
   "id": "a2059705",
   "metadata": {},
   "source": [
    "### 3. Creating LSTM Pipeline"
   ]
  },
  {
   "cell_type": "code",
   "execution_count": 39,
   "id": "706583f8",
   "metadata": {},
   "outputs": [],
   "source": [
    "embedd_layer = Embedding(vocab_size,\n",
    "                         embed_num_dims,\n",
    "                         input_length = max_seq_len,\n",
    "                         weights = [embedd_matrix],\n",
    "                         trainable=False)"
   ]
  },
  {
   "cell_type": "code",
   "execution_count": 40,
   "id": "0c9ce729",
   "metadata": {},
   "outputs": [],
   "source": [
    "\n",
    "# Parameters\n",
    "gru_output_size = 128\n",
    "bidirectional = True\n",
    "\n",
    "# Embedding Layer, LSTM or biLSTM, Dense, softmax\n",
    "model = Sequential()\n",
    "model.add(embedd_layer)\n",
    "\n",
    "if bidirectional:\n",
    "    model.add(Bidirectional(GRU(units=gru_output_size,\n",
    "                              dropout=0.2,\n",
    "                              recurrent_dropout=0.2)))\n",
    "else:\n",
    "     model.add(GRU(units=gru_output_size,\n",
    "                dropout=0.2, \n",
    "                recurrent_dropout=0.2))\n",
    "\n",
    "model.add(Dense(num_classes, activation='softmax'))"
   ]
  },
  {
   "cell_type": "code",
   "execution_count": 57,
   "id": "c78a6b8d",
   "metadata": {},
   "outputs": [
    {
     "name": "stdout",
     "output_type": "stream",
     "text": [
      "Model: \"sequential\"\n",
      "_________________________________________________________________\n",
      "Layer (type)                 Output Shape              Param #   \n",
      "=================================================================\n",
      "embedding (Embedding)        (None, 500, 300)          2322900   \n",
      "_________________________________________________________________\n",
      "bidirectional (Bidirectional (None, 256)               330240    \n",
      "_________________________________________________________________\n",
      "dense (Dense)                (None, 5)                 1285      \n",
      "=================================================================\n",
      "Total params: 2,654,425\n",
      "Trainable params: 331,525\n",
      "Non-trainable params: 2,322,900\n",
      "_________________________________________________________________\n"
     ]
    }
   ],
   "source": [
    "model.compile(loss = 'sparse_categorical_crossentropy', optimizer = 'adam', metrics = ['accuracy'])\n",
    "model.summary()"
   ]
  },
  {
   "cell_type": "markdown",
   "id": "025d49c0",
   "metadata": {},
   "source": [
    "### 3. Train model\n",
    "\n",
    "+ validation data: use validation_split in order to estimate how well your model has been trained and adjust parameters or add dropout layers. After that we will train the model using the complete train set.\n",
    "+ epochs: 15 batch_size: 128"
   ]
  },
  {
   "cell_type": "code",
   "execution_count": 55,
   "id": "efd22b4e",
   "metadata": {},
   "outputs": [
    {
     "name": "stdout",
     "output_type": "stream",
     "text": [
      "(2617, 500)\n",
      "(3393, 500)\n",
      "<class 'list'>\n"
     ]
    }
   ],
   "source": [
    "#y_train1.shape\n",
    "\n",
    "#newarr = y_train1.reshape(len(y_train1), )\n",
    "print(X_train_pad.shape)\n",
    "print(X_test_pad.shape)\n",
    "\n",
    "print(type(y_train1))\n",
    "y_train1 = np.array(y_train1)\n",
    "y_test1 = np.array(y_test1)\n",
    "#print(type(arr))"
   ]
  },
  {
   "cell_type": "code",
   "execution_count": 58,
   "id": "9d8a3f3f",
   "metadata": {},
   "outputs": [
    {
     "name": "stdout",
     "output_type": "stream",
     "text": [
      "Epoch 1/15\n",
      "21/21 [==============================] - 539s 26s/step - loss: 1.5297 - accuracy: 0.3504 - val_loss: 1.4200 - val_accuracy: 0.4604\n",
      "Epoch 2/15\n",
      "21/21 [==============================] - 491s 23s/step - loss: 1.3342 - accuracy: 0.4765 - val_loss: 1.2787 - val_accuracy: 0.4966\n",
      "Epoch 3/15\n",
      "21/21 [==============================] - 881s 43s/step - loss: 1.1691 - accuracy: 0.5674 - val_loss: 1.1177 - val_accuracy: 0.5889\n",
      "Epoch 4/15\n",
      "21/21 [==============================] - 998s 48s/step - loss: 1.0084 - accuracy: 0.6236 - val_loss: 0.9967 - val_accuracy: 0.6357\n",
      "Epoch 5/15\n",
      "21/21 [==============================] - 1086s 52s/step - loss: 0.9044 - accuracy: 0.6584 - val_loss: 0.9509 - val_accuracy: 0.6502\n",
      "Epoch 6/15\n",
      "21/21 [==============================] - 1043s 50s/step - loss: 0.8450 - accuracy: 0.6905 - val_loss: 0.9197 - val_accuracy: 0.6605\n",
      "Epoch 7/15\n",
      "21/21 [==============================] - 1290s 62s/step - loss: 0.7967 - accuracy: 0.7073 - val_loss: 0.9018 - val_accuracy: 0.6755\n",
      "Epoch 8/15\n",
      "21/21 [==============================] - 1488s 71s/step - loss: 0.7734 - accuracy: 0.7180 - val_loss: 0.9069 - val_accuracy: 0.6684\n",
      "Epoch 9/15\n",
      "21/21 [==============================] - 1592s 78s/step - loss: 0.7382 - accuracy: 0.7264 - val_loss: 0.9099 - val_accuracy: 0.6708\n",
      "Epoch 10/15\n",
      "21/21 [==============================] - 1804s 86s/step - loss: 0.7167 - accuracy: 0.7360 - val_loss: 0.8740 - val_accuracy: 0.6790\n",
      "Epoch 11/15\n",
      "21/21 [==============================] - 1913s 92s/step - loss: 0.6848 - accuracy: 0.7619 - val_loss: 0.8726 - val_accuracy: 0.6846\n",
      "Epoch 12/15\n",
      "21/21 [==============================] - 2015s 97s/step - loss: 0.6742 - accuracy: 0.7619 - val_loss: 0.8743 - val_accuracy: 0.6802\n",
      "Epoch 13/15\n",
      "21/21 [==============================] - 2104s 101s/step - loss: 0.6599 - accuracy: 0.7612 - val_loss: 0.8943 - val_accuracy: 0.6699\n",
      "Epoch 14/15\n",
      "21/21 [==============================] - 2114s 101s/step - loss: 0.6240 - accuracy: 0.7784 - val_loss: 0.8861 - val_accuracy: 0.6773\n",
      "Epoch 15/15\n",
      "21/21 [==============================] - 1687s 82s/step - loss: 0.6086 - accuracy: 0.7734 - val_loss: 0.8989 - val_accuracy: 0.6820\n"
     ]
    }
   ],
   "source": [
    "batch_size = 128\n",
    "epochs = 15\n",
    "\n",
    "hist = model.fit(X_train_pad, y_train1, batch_size=batch_size, epochs=epochs, validation_data=(X_test_pad,y_test1))"
   ]
  },
  {
   "cell_type": "code",
   "execution_count": 61,
   "id": "366dcd32",
   "metadata": {},
   "outputs": [
    {
     "data": {
      "image/png": "[encoded data removed]",
      "text/plain": [
       "<Figure size 432x288 with 1 Axes>"
      ]
     },
     "metadata": {
      "needs_background": "light"
     },
     "output_type": "display_data"
    },
    {
     "data": {
      "image/png": "[encoded data removed]",
      "text/plain": [
       "<Figure size 432x288 with 1 Axes>"
      ]
     },
     "metadata": {
      "needs_background": "light"
     },
     "output_type": "display_data"
    }
   ],
   "source": [
    "\n",
    "#  \"Accuracy\"\n",
    "plt.plot(hist.history['accuracy'])\n",
    "plt.plot(hist.history['val_accuracy'])\n",
    "plt.title('model accuracy')\n",
    "plt.ylabel('accuracy')\n",
    "plt.xlabel('epoch')\n",
    "plt.legend(['train', 'validation'], loc='upper left')\n",
    "plt.show()\n",
    "\n",
    "# \"Loss\"\n",
    "plt.plot(hist.history['loss'])\n",
    "plt.plot(hist.history['val_loss'])\n",
    "plt.title('model loss')\n",
    "plt.ylabel('loss')\n",
    "plt.xlabel('epoch')\n",
    "plt.legend(['train', 'validation'], loc='upper left')\n",
    "plt.show()"
   ]
  },
  {
   "cell_type": "markdown",
   "id": "f889a58a",
   "metadata": {},
   "source": [
    "### Evaluation"
   ]
  },
  {
   "cell_type": "code",
   "execution_count": 62,
   "id": "13aff972",
   "metadata": {},
   "outputs": [],
   "source": [
    "predictions = model.predict(X_test_pad)\n",
    "predictions = np.argmax(predictions, axis=1)\n",
    "predictions = [class_names[pred] for pred in predictions]"
   ]
  },
  {
   "cell_type": "code",
   "execution_count": 63,
   "id": "ac3e2e09",
   "metadata": {},
   "outputs": [
    {
     "name": "stdout",
     "output_type": "stream",
     "text": [
      "Accuracy: 68.20%\n",
      "\n",
      "F1 Score: 68.20\n"
     ]
    }
   ],
   "source": [
    "print(\"Accuracy: {:.2f}%\".format(accuracy_score(data_test.Emotion, predictions) * 100))\n",
    "print(\"\\nF1 Score: {:.2f}\".format(f1_score(data_test.Emotion, predictions, average='micro') * 100))"
   ]
  },
  {
   "cell_type": "markdown",
   "id": "fe14eb22",
   "metadata": {},
   "source": [
    "### Testing"
   ]
  },
  {
   "cell_type": "code",
   "execution_count": 64,
   "id": "3b311fe9",
   "metadata": {},
   "outputs": [
    {
     "name": "stdout",
     "output_type": "stream",
     "text": [
      "Message: My boyfriend didn't turn up after promising that he was coming.\n",
      "Predicted: anger\n"
     ]
    }
   ],
   "source": [
    "\n",
    "print('Message: {}\\nPredicted: {}'.format(X_test[4], predictions[4]))"
   ]
  },
  {
   "cell_type": "code",
   "execution_count": 80,
   "id": "b26f3a65",
   "metadata": {},
   "outputs": [
    {
     "name": "stdout",
     "output_type": "stream",
     "text": [
      "Message: ['delivery was hour late and my pizza was cold!']\n",
      "predicted: anger \n"
     ]
    }
   ],
   "source": [
    "message = ['delivery was hour late and my pizza was cold!']\n",
    "\n",
    "seq = tokenizer.texts_to_sequences(message)\n",
    "padded = pad_sequences(seq, maxlen=max_seq_len)\n",
    "\n",
    "pred = model.predict(padded)\n",
    "\n",
    "print('Message: ' + str(message))\n",
    "print('predicted: {} '.format(class_names[np.argmax(pred)]))"
   ]
  },
  {
   "cell_type": "markdown",
   "id": "ae3529d9",
   "metadata": {},
   "source": [
    "### 5. Saving the model"
   ]
  },
  {
   "cell_type": "code",
   "execution_count": 81,
   "id": "56d19d21",
   "metadata": {},
   "outputs": [],
   "source": [
    "# creates a HDF5 file 'my_model.h5'\n",
    "model.save('LSTM_model.h5')"
   ]
  },
  {
   "cell_type": "code",
   "execution_count": null,
   "id": "d5149451",
   "metadata": {},
   "outputs": [],
   "source": []
  }
 ],
 "metadata": {
  "kernelspec": {
   "display_name": "Python 3 (ipykernel)",
   "language": "python",
   "name": "python3"
  },
  "language_info": {
   "codemirror_mode": {
    "name": "ipython",
    "version": 3
   },
   "file_extension": ".py",
   "mimetype": "text/x-python",
   "name": "python",
   "nbconvert_exporter": "python",
   "pygments_lexer": "ipython3",
   "version": "3.7.11"
  }
 },
 "nbformat": 4,
 "nbformat_minor": 5
}
