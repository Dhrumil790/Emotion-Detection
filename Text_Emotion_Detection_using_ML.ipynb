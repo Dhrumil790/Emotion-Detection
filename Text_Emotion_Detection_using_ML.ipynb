{
 "cells": [
  {
   "cell_type": "code",
   "execution_count": 1,
   "metadata": {
    "id": "zlmYDd02k61Y"
   },
   "outputs": [],
   "source": [
    "# Importing Libraries\n",
    "import pandas as pd\n",
    "import numpy as np\n",
    "import matplotlib.pyplot as plt\n",
    "import seaborn as sns\n",
    "from sklearn.feature_extraction.text import CountVectorizer , TfidfVectorizer\n"
   ]
  },
  {
   "cell_type": "code",
   "execution_count": 2,
   "metadata": {
    "colab": {
     "base_uri": "https://localhost:8080/"
    },
    "id": "o2YR3GSDl9DR",
    "outputId": "95709652-3a9f-42fc-b5da-07dae548332e"
   },
   "outputs": [
    {
     "name": "stdout",
     "output_type": "stream",
     "text": [
      "Requirement already satisfied: neattext in c:\\users\\hp\\.conda\\envs\\emotion-detect\\lib\\site-packages (0.1.1)\n"
     ]
    }
   ],
   "source": [
    "!pip install neattext"
   ]
  },
  {
   "cell_type": "code",
   "execution_count": 3,
   "metadata": {
    "id": "sBDVhcdXlJxp"
   },
   "outputs": [],
   "source": [
    "import neattext.functions as nfx"
   ]
  },
  {
   "cell_type": "markdown",
   "metadata": {
    "id": "7F2lJjISlWhe"
   },
   "source": [
    "Loading DataSet"
   ]
  },
  {
   "cell_type": "code",
   "execution_count": 4,
   "metadata": {
    "id": "kuaEppzElRsU"
   },
   "outputs": [],
   "source": [
    "df = pd.read_csv(\"train1.csv\")"
   ]
  },
  {
   "cell_type": "code",
   "execution_count": 5,
   "metadata": {
    "colab": {
     "base_uri": "https://localhost:8080/",
     "height": 204
    },
    "id": "UQjSTICVllI-",
    "outputId": "6c5ef660-c3e9-4368-88bc-3b734d3d6e46"
   },
   "outputs": [
    {
     "data": {
      "text/html": [
       "<div>\n",
       "<style scoped>\n",
       "    .dataframe tbody tr th:only-of-type {\n",
       "        vertical-align: middle;\n",
       "    }\n",
       "\n",
       "    .dataframe tbody tr th {\n",
       "        vertical-align: top;\n",
       "    }\n",
       "\n",
       "    .dataframe thead th {\n",
       "        text-align: right;\n",
       "    }\n",
       "</style>\n",
       "<table border=\"1\" class=\"dataframe\">\n",
       "  <thead>\n",
       "    <tr style=\"text-align: right;\">\n",
       "      <th></th>\n",
       "      <th>Text</th>\n",
       "      <th>Emotion</th>\n",
       "    </tr>\n",
       "  </thead>\n",
       "  <tbody>\n",
       "    <tr>\n",
       "      <th>0</th>\n",
       "      <td>i didnt feel humiliated</td>\n",
       "      <td>sadness</td>\n",
       "    </tr>\n",
       "    <tr>\n",
       "      <th>1</th>\n",
       "      <td>i can go from feeling so hopeless to so damned...</td>\n",
       "      <td>sadness</td>\n",
       "    </tr>\n",
       "    <tr>\n",
       "      <th>2</th>\n",
       "      <td>im grabbing a minute to post i feel greedy wrong</td>\n",
       "      <td>anger</td>\n",
       "    </tr>\n",
       "    <tr>\n",
       "      <th>3</th>\n",
       "      <td>i am ever feeling nostalgic about the fireplac...</td>\n",
       "      <td>love</td>\n",
       "    </tr>\n",
       "    <tr>\n",
       "      <th>4</th>\n",
       "      <td>i am feeling grouchy</td>\n",
       "      <td>anger</td>\n",
       "    </tr>\n",
       "  </tbody>\n",
       "</table>\n",
       "</div>"
      ],
      "text/plain": [
       "                                                Text  Emotion\n",
       "0                            i didnt feel humiliated  sadness\n",
       "1  i can go from feeling so hopeless to so damned...  sadness\n",
       "2   im grabbing a minute to post i feel greedy wrong    anger\n",
       "3  i am ever feeling nostalgic about the fireplac...     love\n",
       "4                               i am feeling grouchy    anger"
      ]
     },
     "execution_count": 5,
     "metadata": {},
     "output_type": "execute_result"
    }
   ],
   "source": [
    "df.head()"
   ]
  },
  {
   "cell_type": "code",
   "execution_count": 6,
   "metadata": {
    "colab": {
     "base_uri": "https://localhost:8080/"
    },
    "id": "fE2KiYZdmA5J",
    "outputId": "cb071c75-d6dc-427c-fbfb-b9807387fbf4"
   },
   "outputs": [
    {
     "data": {
      "text/plain": [
       "(41459, 2)"
      ]
     },
     "execution_count": 6,
     "metadata": {},
     "output_type": "execute_result"
    }
   ],
   "source": [
    "df.shape"
   ]
  },
  {
   "cell_type": "code",
   "execution_count": 7,
   "metadata": {
    "colab": {
     "base_uri": "https://localhost:8080/"
    },
    "id": "HdtzfpOGmdvG",
    "outputId": "9763f104-301b-4e29-d9a7-c06709ac71f6"
   },
   "outputs": [
    {
     "data": {
      "text/plain": [
       "Text       object\n",
       "Emotion    object\n",
       "dtype: object"
      ]
     },
     "execution_count": 7,
     "metadata": {},
     "output_type": "execute_result"
    }
   ],
   "source": [
    "df.dtypes"
   ]
  },
  {
   "cell_type": "code",
   "execution_count": 8,
   "metadata": {
    "id": "ITONgXI7mgWX"
   },
   "outputs": [],
   "source": [
    "#Dropping Null Values\n",
    "\n",
    "df = df.dropna()"
   ]
  },
  {
   "cell_type": "code",
   "execution_count": 9,
   "metadata": {
    "id": "Gc4wpceUP_XE"
   },
   "outputs": [],
   "source": [
    "emotions = df.copy()"
   ]
  },
  {
   "cell_type": "code",
   "execution_count": null,
   "metadata": {},
   "outputs": [],
   "source": []
  },
  {
   "cell_type": "code",
   "execution_count": 10,
   "metadata": {
    "colab": {
     "base_uri": "https://localhost:8080/",
     "height": 296
    },
    "id": "52REt94OnHrq",
    "outputId": "65a85ba3-8f2a-4acd-b722-e2e8ef256078"
   },
   "outputs": [
    {
     "data": {
      "text/plain": [
       "<AxesSubplot:xlabel='Emotion', ylabel='count'>"
      ]
     },
     "execution_count": 10,
     "metadata": {},
     "output_type": "execute_result"
    },
    {
     "data": {
      "image/png": "[encoded data removed]",
      "text/plain": [
       "<Figure size 432x288 with 1 Axes>"
      ]
     },
     "metadata": {
      "needs_background": "light"
     },
     "output_type": "display_data"
    }
   ],
   "source": [
    "sns.countplot(x = 'Emotion',data = emotions)"
   ]
  },
  {
   "cell_type": "markdown",
   "metadata": {
    "id": "36ve9DyJnODw"
   },
   "source": [
    "### EDA \n",
    "+ Text Cleaning\n",
    "+ Sentiment Analysis\n",
    "+ Keyword Extraction\n",
    "  - keywords for each emotion\n",
    "  - wordcloud"
   ]
  },
  {
   "cell_type": "code",
   "execution_count": 11,
   "metadata": {
    "id": "788pb2t9nY8V"
   },
   "outputs": [],
   "source": [
    "#Sentiment Analysis\n",
    "from textblob import TextBlob\n",
    "def get_sentiment(text):\n",
    "  blob = TextBlob(text)\n",
    "  sentiment = blob.sentiment.polarity\n",
    "  if sentiment > 0:\n",
    "    result = 'Positive'\n",
    "  elif sentiment <0 :\n",
    "    result = 'Negative'\n",
    "  else:\n",
    "    result = 'Neutral'\n",
    "  return result"
   ]
  },
  {
   "cell_type": "code",
   "execution_count": 12,
   "metadata": {
    "id": "qUUJjG5Vn2Xv"
   },
   "outputs": [],
   "source": [
    "emotions['Sentiment'] = emotions['Text'].apply(get_sentiment)"
   ]
  },
  {
   "cell_type": "code",
   "execution_count": 13,
   "metadata": {
    "colab": {
     "base_uri": "https://localhost:8080/",
     "height": 204
    },
    "id": "Z1E6ju_IoHfS",
    "outputId": "3037c2b4-ed50-4bf8-9dd5-53dabe90fa43"
   },
   "outputs": [
    {
     "data": {
      "text/html": [
       "<div>\n",
       "<style scoped>\n",
       "    .dataframe tbody tr th:only-of-type {\n",
       "        vertical-align: middle;\n",
       "    }\n",
       "\n",
       "    .dataframe tbody tr th {\n",
       "        vertical-align: top;\n",
       "    }\n",
       "\n",
       "    .dataframe thead th {\n",
       "        text-align: right;\n",
       "    }\n",
       "</style>\n",
       "<table border=\"1\" class=\"dataframe\">\n",
       "  <thead>\n",
       "    <tr style=\"text-align: right;\">\n",
       "      <th></th>\n",
       "      <th>Text</th>\n",
       "      <th>Emotion</th>\n",
       "      <th>Sentiment</th>\n",
       "    </tr>\n",
       "  </thead>\n",
       "  <tbody>\n",
       "    <tr>\n",
       "      <th>0</th>\n",
       "      <td>i didnt feel humiliated</td>\n",
       "      <td>sadness</td>\n",
       "      <td>Neutral</td>\n",
       "    </tr>\n",
       "    <tr>\n",
       "      <th>1</th>\n",
       "      <td>i can go from feeling so hopeless to so damned...</td>\n",
       "      <td>sadness</td>\n",
       "      <td>Neutral</td>\n",
       "    </tr>\n",
       "    <tr>\n",
       "      <th>2</th>\n",
       "      <td>im grabbing a minute to post i feel greedy wrong</td>\n",
       "      <td>anger</td>\n",
       "      <td>Negative</td>\n",
       "    </tr>\n",
       "    <tr>\n",
       "      <th>3</th>\n",
       "      <td>i am ever feeling nostalgic about the fireplac...</td>\n",
       "      <td>love</td>\n",
       "      <td>Negative</td>\n",
       "    </tr>\n",
       "    <tr>\n",
       "      <th>4</th>\n",
       "      <td>i am feeling grouchy</td>\n",
       "      <td>anger</td>\n",
       "      <td>Neutral</td>\n",
       "    </tr>\n",
       "  </tbody>\n",
       "</table>\n",
       "</div>"
      ],
      "text/plain": [
       "                                                Text  Emotion Sentiment\n",
       "0                            i didnt feel humiliated  sadness   Neutral\n",
       "1  i can go from feeling so hopeless to so damned...  sadness   Neutral\n",
       "2   im grabbing a minute to post i feel greedy wrong    anger  Negative\n",
       "3  i am ever feeling nostalgic about the fireplac...     love  Negative\n",
       "4                               i am feeling grouchy    anger   Neutral"
      ]
     },
     "execution_count": 13,
     "metadata": {},
     "output_type": "execute_result"
    }
   ],
   "source": [
    "emotions.head()"
   ]
  },
  {
   "cell_type": "code",
   "execution_count": 14,
   "metadata": {
    "colab": {
     "base_uri": "https://localhost:8080/"
    },
    "id": "56wEelhCoUwy",
    "outputId": "529e1241-328a-4a97-8c79-9d9fd107cde0"
   },
   "outputs": [
    {
     "data": {
      "text/plain": [
       "Emotion   Sentiment\n",
       "anger     Negative     2701\n",
       "          Neutral      1480\n",
       "          Positive     1521\n",
       "fear      Negative     2225\n",
       "          Neutral      1223\n",
       "          Positive     1577\n",
       "happy     Negative      781\n",
       "          Neutral      1035\n",
       "          Positive     5213\n",
       "joy       Negative      737\n",
       "          Neutral       975\n",
       "          Positive     5049\n",
       "love      Negative      636\n",
       "          Neutral       468\n",
       "          Positive     2178\n",
       "sadness   Negative     5709\n",
       "          Neutral      3024\n",
       "          Positive     3329\n",
       "surprise  Negative      621\n",
       "          Neutral       228\n",
       "          Positive      749\n",
       "dtype: int64"
      ]
     },
     "execution_count": 14,
     "metadata": {},
     "output_type": "execute_result"
    }
   ],
   "source": [
    "# Compare our Emotions vs Sentiment\n",
    "emotions.groupby(['Emotion','Sentiment']).size()"
   ]
  },
  {
   "cell_type": "code",
   "execution_count": 15,
   "metadata": {
    "colab": {
     "base_uri": "https://localhost:8080/",
     "height": 454
    },
    "id": "y8VCRliFokXa",
    "outputId": "0d7eb590-5bb8-4e99-97ff-1c6ca3810cd8"
   },
   "outputs": [
    {
     "name": "stderr",
     "output_type": "stream",
     "text": [
      "C:\\Users\\HP\\.conda\\envs\\emotion-detect\\lib\\site-packages\\seaborn\\categorical.py:3717: UserWarning: The `factorplot` function has been renamed to `catplot`. The original name will be removed in a future release. Please update your code. Note that the default `kind` in `factorplot` (`'point'`) has changed `'strip'` in `catplot`.\n",
      "  warnings.warn(msg)\n"
     ]
    },
    {
     "data": {
      "text/plain": [
       "<seaborn.axisgrid.FacetGrid at 0x21f7ba92508>"
      ]
     },
     "execution_count": 15,
     "metadata": {},
     "output_type": "execute_result"
    },
    {
     "data": {
      "image/png": "[encoded data removed]",
      "text/plain": [
       "<Figure size 440.875x360 with 1 Axes>"
      ]
     },
     "metadata": {
      "needs_background": "light"
     },
     "output_type": "display_data"
    }
   ],
   "source": [
    "sns.factorplot(x='Emotion',hue='Sentiment',kind='count',data=emotions)"
   ]
  },
  {
   "cell_type": "markdown",
   "metadata": {
    "id": "du_uprEPpmxv"
   },
   "source": [
    "### Text Cleaning\n",
    "+ Remove Noise\n",
    "  - Stopwords\n",
    "  - Special Characters\n",
    "  - Punctuations\n",
    "  - Emojis\n",
    "  "
   ]
  },
  {
   "cell_type": "code",
   "execution_count": 16,
   "metadata": {
    "colab": {
     "base_uri": "https://localhost:8080/",
     "height": 204
    },
    "id": "--QiSnN8PN-o",
    "outputId": "ddec92df-a884-4fa4-981b-8d3f05be9f84"
   },
   "outputs": [
    {
     "data": {
      "text/html": [
       "<div>\n",
       "<style scoped>\n",
       "    .dataframe tbody tr th:only-of-type {\n",
       "        vertical-align: middle;\n",
       "    }\n",
       "\n",
       "    .dataframe tbody tr th {\n",
       "        vertical-align: top;\n",
       "    }\n",
       "\n",
       "    .dataframe thead th {\n",
       "        text-align: right;\n",
       "    }\n",
       "</style>\n",
       "<table border=\"1\" class=\"dataframe\">\n",
       "  <thead>\n",
       "    <tr style=\"text-align: right;\">\n",
       "      <th></th>\n",
       "      <th>Text</th>\n",
       "      <th>Emotion</th>\n",
       "      <th>Sentiment</th>\n",
       "    </tr>\n",
       "  </thead>\n",
       "  <tbody>\n",
       "    <tr>\n",
       "      <th>0</th>\n",
       "      <td>i didnt feel humiliated</td>\n",
       "      <td>sadness</td>\n",
       "      <td>Neutral</td>\n",
       "    </tr>\n",
       "    <tr>\n",
       "      <th>1</th>\n",
       "      <td>i can go from feeling so hopeless to so damned...</td>\n",
       "      <td>sadness</td>\n",
       "      <td>Neutral</td>\n",
       "    </tr>\n",
       "    <tr>\n",
       "      <th>2</th>\n",
       "      <td>im grabbing a minute to post i feel greedy wrong</td>\n",
       "      <td>anger</td>\n",
       "      <td>Negative</td>\n",
       "    </tr>\n",
       "    <tr>\n",
       "      <th>3</th>\n",
       "      <td>i am ever feeling nostalgic about the fireplac...</td>\n",
       "      <td>love</td>\n",
       "      <td>Negative</td>\n",
       "    </tr>\n",
       "    <tr>\n",
       "      <th>4</th>\n",
       "      <td>i am feeling grouchy</td>\n",
       "      <td>anger</td>\n",
       "      <td>Neutral</td>\n",
       "    </tr>\n",
       "  </tbody>\n",
       "</table>\n",
       "</div>"
      ],
      "text/plain": [
       "                                                Text  Emotion Sentiment\n",
       "0                            i didnt feel humiliated  sadness   Neutral\n",
       "1  i can go from feeling so hopeless to so damned...  sadness   Neutral\n",
       "2   im grabbing a minute to post i feel greedy wrong    anger  Negative\n",
       "3  i am ever feeling nostalgic about the fireplac...     love  Negative\n",
       "4                               i am feeling grouchy    anger   Neutral"
      ]
     },
     "execution_count": 16,
     "metadata": {},
     "output_type": "execute_result"
    }
   ],
   "source": [
    "emotions.head()"
   ]
  },
  {
   "cell_type": "code",
   "execution_count": 17,
   "metadata": {
    "colab": {
     "base_uri": "https://localhost:8080/"
    },
    "id": "0R7W9sYwNvLj",
    "outputId": "7f0e9dbd-acdf-4adf-e1f4-bae85d9d757c"
   },
   "outputs": [
    {
     "name": "stderr",
     "output_type": "stream",
     "text": [
      "[nltk_data] Downloading package stopwords to\n",
      "[nltk_data]     C:\\Users\\HP\\AppData\\Roaming\\nltk_data...\n",
      "[nltk_data]   Package stopwords is already up-to-date!\n",
      "[nltk_data] Downloading package wordnet to\n",
      "[nltk_data]     C:\\Users\\HP\\AppData\\Roaming\\nltk_data...\n",
      "[nltk_data]   Package wordnet is already up-to-date!\n",
      "[nltk_data] Downloading package punkt to\n",
      "[nltk_data]     C:\\Users\\HP\\AppData\\Roaming\\nltk_data...\n",
      "[nltk_data]   Package punkt is already up-to-date!\n"
     ]
    },
    {
     "data": {
      "text/plain": [
       "True"
      ]
     },
     "execution_count": 17,
     "metadata": {},
     "output_type": "execute_result"
    }
   ],
   "source": [
    "import re\n",
    "import nltk\n",
    "from nltk.corpus import stopwords\n",
    "from nltk.stem import WordNetLemmatizer\n",
    "from nltk.stem import PorterStemmer\n",
    "\n",
    "nltk.download('stopwords')\n",
    "nltk.download('wordnet')\n",
    "nltk.download('punkt')\n"
   ]
  },
  {
   "cell_type": "code",
   "execution_count": 18,
   "metadata": {
    "colab": {
     "base_uri": "https://localhost:8080/",
     "height": 204
    },
    "id": "L-PzM04jDfzv",
    "outputId": "8589b204-c607-43ab-9366-28d0930aa047"
   },
   "outputs": [
    {
     "data": {
      "text/html": [
       "<div>\n",
       "<style scoped>\n",
       "    .dataframe tbody tr th:only-of-type {\n",
       "        vertical-align: middle;\n",
       "    }\n",
       "\n",
       "    .dataframe tbody tr th {\n",
       "        vertical-align: top;\n",
       "    }\n",
       "\n",
       "    .dataframe thead th {\n",
       "        text-align: right;\n",
       "    }\n",
       "</style>\n",
       "<table border=\"1\" class=\"dataframe\">\n",
       "  <thead>\n",
       "    <tr style=\"text-align: right;\">\n",
       "      <th></th>\n",
       "      <th>Text</th>\n",
       "      <th>Emotion</th>\n",
       "      <th>Sentiment</th>\n",
       "      <th>Clean_Text</th>\n",
       "    </tr>\n",
       "  </thead>\n",
       "  <tbody>\n",
       "    <tr>\n",
       "      <th>0</th>\n",
       "      <td>i didnt feel humiliated</td>\n",
       "      <td>sadness</td>\n",
       "      <td>Neutral</td>\n",
       "      <td></td>\n",
       "    </tr>\n",
       "    <tr>\n",
       "      <th>1</th>\n",
       "      <td>i can go from feeling so hopeless to so damned...</td>\n",
       "      <td>sadness</td>\n",
       "      <td>Neutral</td>\n",
       "      <td></td>\n",
       "    </tr>\n",
       "    <tr>\n",
       "      <th>2</th>\n",
       "      <td>im grabbing a minute to post i feel greedy wrong</td>\n",
       "      <td>anger</td>\n",
       "      <td>Negative</td>\n",
       "      <td></td>\n",
       "    </tr>\n",
       "    <tr>\n",
       "      <th>3</th>\n",
       "      <td>i am ever feeling nostalgic about the fireplac...</td>\n",
       "      <td>love</td>\n",
       "      <td>Negative</td>\n",
       "      <td></td>\n",
       "    </tr>\n",
       "    <tr>\n",
       "      <th>4</th>\n",
       "      <td>i am feeling grouchy</td>\n",
       "      <td>anger</td>\n",
       "      <td>Neutral</td>\n",
       "      <td></td>\n",
       "    </tr>\n",
       "  </tbody>\n",
       "</table>\n",
       "</div>"
      ],
      "text/plain": [
       "                                                Text  Emotion Sentiment  \\\n",
       "0                            i didnt feel humiliated  sadness   Neutral   \n",
       "1  i can go from feeling so hopeless to so damned...  sadness   Neutral   \n",
       "2   im grabbing a minute to post i feel greedy wrong    anger  Negative   \n",
       "3  i am ever feeling nostalgic about the fireplac...     love  Negative   \n",
       "4                               i am feeling grouchy    anger   Neutral   \n",
       "\n",
       "  Clean_Text  \n",
       "0             \n",
       "1             \n",
       "2             \n",
       "3             \n",
       "4             "
      ]
     },
     "execution_count": 18,
     "metadata": {},
     "output_type": "execute_result"
    }
   ],
   "source": [
    "emotions['Clean_Text'] = \"\"\n",
    "emotions.head()\n"
   ]
  },
  {
   "cell_type": "code",
   "execution_count": 19,
   "metadata": {
    "id": "lRC6S8heNXvX"
   },
   "outputs": [],
   "source": [
    "lemmetize = WordNetLemmatizer()\n",
    "corpus = []\n",
    "for i in range(0,len(emotions)):\n",
    "  tweet = re.sub('[^a-zA-Z]',' ',emotions['Text'][i])\n",
    "  tweet = tweet.lower()\n",
    "  tweet = tweet.split()\n",
    "  tweet = [lemmetize.lemmatize(word) for word in tweet if word not in set(stopwords.words('english'))]\n",
    "  tweet = ' '.join(tweet)\n",
    "  emotions['Clean_Text'][i]= tweet\n",
    "  corpus.append(tweet)"
   ]
  },
  {
   "cell_type": "code",
   "execution_count": 20,
   "metadata": {
    "colab": {
     "base_uri": "https://localhost:8080/"
    },
    "id": "wMDs9uAtQuO1",
    "outputId": "c57f86b3-78ad-4b22-fd53-66c0abb70623"
   },
   "outputs": [
    {
     "data": {
      "text/plain": [
       "0                                didnt feel humiliated\n",
       "1    go feeling hopeless damned hopeful around some...\n",
       "2            im grabbing minute post feel greedy wrong\n",
       "3    ever feeling nostalgic fireplace know still pr...\n",
       "4                                      feeling grouchy\n",
       "5        ive feeling little burdened lately wasnt sure\n",
       "6    ive taking milligram time recommended amount i...\n",
       "7       feel confused life teenager jaded year old man\n",
       "8    petronas year feel petronas performed well mad...\n",
       "9                                        feel romantic\n",
       "Name: Clean_Text, dtype: object"
      ]
     },
     "execution_count": 20,
     "metadata": {},
     "output_type": "execute_result"
    }
   ],
   "source": [
    "emotions['Clean_Text'].head(10)"
   ]
  },
  {
   "cell_type": "code",
   "execution_count": 21,
   "metadata": {
    "id": "DHSAbE64Q75s"
   },
   "outputs": [],
   "source": [
    "cv = CountVectorizer(max_features=5000,ngram_range=(1,3))\n",
    "X = cv.fit_transform(corpus).toarray()"
   ]
  },
  {
   "cell_type": "code",
   "execution_count": 22,
   "metadata": {
    "colab": {
     "base_uri": "https://localhost:8080/"
    },
    "id": "-UNWOMTFRfe_",
    "outputId": "1d9dd862-3aff-4578-a151-5d98985bb707"
   },
   "outputs": [
    {
     "data": {
      "text/plain": [
       "(41459, 5000)"
      ]
     },
     "execution_count": 22,
     "metadata": {},
     "output_type": "execute_result"
    }
   ],
   "source": [
    "X.shape"
   ]
  },
  {
   "cell_type": "code",
   "execution_count": 23,
   "metadata": {
    "colab": {
     "base_uri": "https://localhost:8080/",
     "height": 419
    },
    "id": "jFZ24z1mqm3Q",
    "outputId": "0eb43d04-5d93-4d4f-ca28-8f6cb92433d5"
   },
   "outputs": [
    {
     "data": {
      "text/html": [
       "<div>\n",
       "<style scoped>\n",
       "    .dataframe tbody tr th:only-of-type {\n",
       "        vertical-align: middle;\n",
       "    }\n",
       "\n",
       "    .dataframe tbody tr th {\n",
       "        vertical-align: top;\n",
       "    }\n",
       "\n",
       "    .dataframe thead th {\n",
       "        text-align: right;\n",
       "    }\n",
       "</style>\n",
       "<table border=\"1\" class=\"dataframe\">\n",
       "  <thead>\n",
       "    <tr style=\"text-align: right;\">\n",
       "      <th></th>\n",
       "      <th>Text</th>\n",
       "      <th>Clean_Text</th>\n",
       "    </tr>\n",
       "  </thead>\n",
       "  <tbody>\n",
       "    <tr>\n",
       "      <th>0</th>\n",
       "      <td>i didnt feel humiliated</td>\n",
       "      <td>didnt feel humiliated</td>\n",
       "    </tr>\n",
       "    <tr>\n",
       "      <th>1</th>\n",
       "      <td>i can go from feeling so hopeless to so damned...</td>\n",
       "      <td>go feeling hopeless damned hopeful around some...</td>\n",
       "    </tr>\n",
       "    <tr>\n",
       "      <th>2</th>\n",
       "      <td>im grabbing a minute to post i feel greedy wrong</td>\n",
       "      <td>im grabbing minute post feel greedy wrong</td>\n",
       "    </tr>\n",
       "    <tr>\n",
       "      <th>3</th>\n",
       "      <td>i am ever feeling nostalgic about the fireplac...</td>\n",
       "      <td>ever feeling nostalgic fireplace know still pr...</td>\n",
       "    </tr>\n",
       "    <tr>\n",
       "      <th>4</th>\n",
       "      <td>i am feeling grouchy</td>\n",
       "      <td>feeling grouchy</td>\n",
       "    </tr>\n",
       "    <tr>\n",
       "      <th>...</th>\n",
       "      <td>...</td>\n",
       "      <td>...</td>\n",
       "    </tr>\n",
       "    <tr>\n",
       "      <th>41454</th>\n",
       "      <td>im having ssa examination tomorrow in the morn...</td>\n",
       "      <td>im ssa examination tomorrow morning im quite w...</td>\n",
       "    </tr>\n",
       "    <tr>\n",
       "      <th>41455</th>\n",
       "      <td>i constantly worry about their fight against n...</td>\n",
       "      <td>constantly worry fight nature push limit inner...</td>\n",
       "    </tr>\n",
       "    <tr>\n",
       "      <th>41456</th>\n",
       "      <td>i feel its important to share this info for th...</td>\n",
       "      <td>feel important share info experience thing</td>\n",
       "    </tr>\n",
       "    <tr>\n",
       "      <th>41457</th>\n",
       "      <td>i truly feel that if you are passionate enough...</td>\n",
       "      <td>truly feel passionate enough something stay tr...</td>\n",
       "    </tr>\n",
       "    <tr>\n",
       "      <th>41458</th>\n",
       "      <td>i feel like i just wanna buy any cute make up ...</td>\n",
       "      <td>feel like wanna buy cute make see online even one</td>\n",
       "    </tr>\n",
       "  </tbody>\n",
       "</table>\n",
       "<p>41459 rows × 2 columns</p>\n",
       "</div>"
      ],
      "text/plain": [
       "                                                    Text  \\\n",
       "0                                i didnt feel humiliated   \n",
       "1      i can go from feeling so hopeless to so damned...   \n",
       "2       im grabbing a minute to post i feel greedy wrong   \n",
       "3      i am ever feeling nostalgic about the fireplac...   \n",
       "4                                   i am feeling grouchy   \n",
       "...                                                  ...   \n",
       "41454  im having ssa examination tomorrow in the morn...   \n",
       "41455  i constantly worry about their fight against n...   \n",
       "41456  i feel its important to share this info for th...   \n",
       "41457  i truly feel that if you are passionate enough...   \n",
       "41458  i feel like i just wanna buy any cute make up ...   \n",
       "\n",
       "                                              Clean_Text  \n",
       "0                                  didnt feel humiliated  \n",
       "1      go feeling hopeless damned hopeful around some...  \n",
       "2              im grabbing minute post feel greedy wrong  \n",
       "3      ever feeling nostalgic fireplace know still pr...  \n",
       "4                                        feeling grouchy  \n",
       "...                                                  ...  \n",
       "41454  im ssa examination tomorrow morning im quite w...  \n",
       "41455  constantly worry fight nature push limit inner...  \n",
       "41456         feel important share info experience thing  \n",
       "41457  truly feel passionate enough something stay tr...  \n",
       "41458  feel like wanna buy cute make see online even one  \n",
       "\n",
       "[41459 rows x 2 columns]"
      ]
     },
     "execution_count": 23,
     "metadata": {},
     "output_type": "execute_result"
    }
   ],
   "source": [
    "emotions[['Text', 'Clean_Text']]"
   ]
  },
  {
   "cell_type": "markdown",
   "metadata": {
    "id": "Ahj2ne7motxe"
   },
   "source": [
    "### Keyword Extraction\n",
    "  + Extract most common words per class of emotions"
   ]
  },
  {
   "cell_type": "code",
   "execution_count": 24,
   "metadata": {
    "id": "iVcn_A_5pckm"
   },
   "outputs": [],
   "source": [
    "from collections import Counter"
   ]
  },
  {
   "cell_type": "code",
   "execution_count": 25,
   "metadata": {
    "id": "YrEroL_vrAtj"
   },
   "outputs": [],
   "source": [
    "def extract_keywords(text,num=50):\n",
    "  tokens = [ tok for tok in text.split()]\n",
    "  most_common_tokens = Counter(tokens).most_common(num)\n",
    "  return dict(most_common_tokens)"
   ]
  },
  {
   "cell_type": "code",
   "execution_count": 26,
   "metadata": {
    "colab": {
     "base_uri": "https://localhost:8080/",
     "height": 204
    },
    "id": "XLLTy3YOjrR4",
    "outputId": "d97ba3c3-260c-4653-94e6-2697ee5c0241"
   },
   "outputs": [
    {
     "data": {
      "text/html": [
       "<div>\n",
       "<style scoped>\n",
       "    .dataframe tbody tr th:only-of-type {\n",
       "        vertical-align: middle;\n",
       "    }\n",
       "\n",
       "    .dataframe tbody tr th {\n",
       "        vertical-align: top;\n",
       "    }\n",
       "\n",
       "    .dataframe thead th {\n",
       "        text-align: right;\n",
       "    }\n",
       "</style>\n",
       "<table border=\"1\" class=\"dataframe\">\n",
       "  <thead>\n",
       "    <tr style=\"text-align: right;\">\n",
       "      <th></th>\n",
       "      <th>Text</th>\n",
       "      <th>Emotion</th>\n",
       "      <th>Sentiment</th>\n",
       "      <th>Clean_Text</th>\n",
       "    </tr>\n",
       "  </thead>\n",
       "  <tbody>\n",
       "    <tr>\n",
       "      <th>0</th>\n",
       "      <td>i didnt feel humiliated</td>\n",
       "      <td>sadness</td>\n",
       "      <td>Neutral</td>\n",
       "      <td>didnt feel humiliated</td>\n",
       "    </tr>\n",
       "    <tr>\n",
       "      <th>1</th>\n",
       "      <td>i can go from feeling so hopeless to so damned...</td>\n",
       "      <td>sadness</td>\n",
       "      <td>Neutral</td>\n",
       "      <td>go feeling hopeless damned hopeful around some...</td>\n",
       "    </tr>\n",
       "    <tr>\n",
       "      <th>2</th>\n",
       "      <td>im grabbing a minute to post i feel greedy wrong</td>\n",
       "      <td>anger</td>\n",
       "      <td>Negative</td>\n",
       "      <td>im grabbing minute post feel greedy wrong</td>\n",
       "    </tr>\n",
       "    <tr>\n",
       "      <th>3</th>\n",
       "      <td>i am ever feeling nostalgic about the fireplac...</td>\n",
       "      <td>love</td>\n",
       "      <td>Negative</td>\n",
       "      <td>ever feeling nostalgic fireplace know still pr...</td>\n",
       "    </tr>\n",
       "    <tr>\n",
       "      <th>4</th>\n",
       "      <td>i am feeling grouchy</td>\n",
       "      <td>anger</td>\n",
       "      <td>Neutral</td>\n",
       "      <td>feeling grouchy</td>\n",
       "    </tr>\n",
       "  </tbody>\n",
       "</table>\n",
       "</div>"
      ],
      "text/plain": [
       "                                                Text  Emotion Sentiment  \\\n",
       "0                            i didnt feel humiliated  sadness   Neutral   \n",
       "1  i can go from feeling so hopeless to so damned...  sadness   Neutral   \n",
       "2   im grabbing a minute to post i feel greedy wrong    anger  Negative   \n",
       "3  i am ever feeling nostalgic about the fireplac...     love  Negative   \n",
       "4                               i am feeling grouchy    anger   Neutral   \n",
       "\n",
       "                                          Clean_Text  \n",
       "0                              didnt feel humiliated  \n",
       "1  go feeling hopeless damned hopeful around some...  \n",
       "2          im grabbing minute post feel greedy wrong  \n",
       "3  ever feeling nostalgic fireplace know still pr...  \n",
       "4                                    feeling grouchy  "
      ]
     },
     "execution_count": 26,
     "metadata": {},
     "output_type": "execute_result"
    }
   ],
   "source": [
    "emotions.head()\n"
   ]
  },
  {
   "cell_type": "code",
   "execution_count": 27,
   "metadata": {
    "colab": {
     "base_uri": "https://localhost:8080/"
    },
    "id": "bHdnNNrorhWf",
    "outputId": "57be525a-07d2-4c51-8e3e-97f9c66a53f5"
   },
   "outputs": [
    {
     "name": "stdout",
     "output_type": "stream",
     "text": [
      "['sadness', 'anger', 'love', 'surprise', 'fear', 'happy', 'joy']\n"
     ]
    }
   ],
   "source": [
    "emotion_list = emotions['Emotion'].unique().tolist()\n",
    "print(emotion_list)"
   ]
  },
  {
   "cell_type": "code",
   "execution_count": 28,
   "metadata": {
    "id": "vbrpOYFHrZYW"
   },
   "outputs": [],
   "source": [
    "#Joy\n",
    "joy_list = emotions[emotions['Emotion'] == 'joy']['Clean_Text'].tolist()\n",
    "joy_docx = ' '.join(joy_list)\n",
    "#Extract Keywords\n",
    "keyword_joy = extract_keywords(joy_docx)\n",
    "\n",
    "#Surprise\n",
    "surprise_list = emotions[emotions['Emotion'] == 'surprise']['Clean_Text'].tolist()\n",
    "surprise_docx = ' '.join(surprise_list)\n",
    "keyword_surprise = extract_keywords(surprise_docx)"
   ]
  },
  {
   "cell_type": "code",
   "execution_count": 29,
   "metadata": {
    "id": "0hvLSkbmuzaN"
   },
   "outputs": [],
   "source": [
    "def plot_most_common_words(mydict):\n",
    "  df_01 = pd.DataFrame(mydict.items(),columns = ['tokens','count'])  \n",
    "  sns.barplot(x = 'tokens',y='count',data = df_01)\n",
    "  plt.xticks(rotation=45)\n",
    "  plt.show()"
   ]
  },
  {
   "cell_type": "code",
   "execution_count": 30,
   "metadata": {
    "colab": {
     "base_uri": "https://localhost:8080/",
     "height": 1000
    },
    "id": "-Wxkj_ljwXc-",
    "outputId": "cf2fa48d-1daa-4ea6-f008-359c040d0f5a"
   },
   "outputs": [
    {
     "data": {
      "image/png": "[encoded data removed]",
      "text/plain": [
       "<Figure size 432x288 with 1 Axes>"
      ]
     },
     "metadata": {
      "needs_background": "light"
     },
     "output_type": "display_data"
    },
    {
     "data": {
      "image/png": "[encoded data removed]",
      "text/plain": [
       "<Figure size 432x288 with 1 Axes>"
      ]
     },
     "metadata": {
      "needs_background": "light"
     },
     "output_type": "display_data"
    }
   ],
   "source": [
    "plot_most_common_words(keyword_joy)\n",
    "plot_most_common_words(keyword_surprise)"
   ]
  },
  {
   "cell_type": "code",
   "execution_count": 31,
   "metadata": {
    "id": "GqVEWA9AzytR"
   },
   "outputs": [],
   "source": [
    "from wordcloud import WordCloud"
   ]
  },
  {
   "cell_type": "code",
   "execution_count": 32,
   "metadata": {
    "id": "lUWhyd_cIFLI"
   },
   "outputs": [],
   "source": [
    "def plot_wordcloud(docx):\n",
    "  mywordcloud = WordCloud().generate(docx)\n",
    "  plt.imshow(mywordcloud,interpolation = 'bilinear')\n",
    "  plt.axis('off')\n",
    "  plt.show()"
   ]
  },
  {
   "cell_type": "code",
   "execution_count": 33,
   "metadata": {
    "colab": {
     "base_uri": "https://localhost:8080/",
     "height": 379
    },
    "id": "3JvMRV1ZIxje",
    "outputId": "cbd595a4-57d1-420b-da2a-484a555d837e"
   },
   "outputs": [
    {
     "data": {
      "image/png": "[encoded data removed]",
      "text/plain": [
       "<Figure size 432x288 with 1 Axes>"
      ]
     },
     "metadata": {
      "needs_background": "light"
     },
     "output_type": "display_data"
    },
    {
     "data": {
      "image/png": "[encoded data removed]",
      "text/plain": [
       "<Figure size 432x288 with 1 Axes>"
      ]
     },
     "metadata": {
      "needs_background": "light"
     },
     "output_type": "display_data"
    }
   ],
   "source": [
    "plot_wordcloud(joy_docx)\n",
    "plot_wordcloud(surprise_docx)"
   ]
  },
  {
   "cell_type": "markdown",
   "metadata": {
    "id": "wpR6DAhEKmXp"
   },
   "source": [
    "\n",
    "### Machine Learning\n",
    "+ Naive Bayes\n",
    "+ Logistic Regression\n",
    "+ KNN\n",
    "+ SVM"
   ]
  },
  {
   "cell_type": "code",
   "execution_count": 34,
   "metadata": {
    "id": "AHyYIW3RKkAk"
   },
   "outputs": [],
   "source": [
    "# Load ML Packages\n",
    "\n",
    "from sklearn.linear_model import LogisticRegression\n",
    "from sklearn.naive_bayes import MultinomialNB\n",
    "from sklearn import neighbors, datasets, preprocessing\n",
    "from sklearn.linear_model import SGDClassifier\n",
    "\n",
    "\n",
    "#Metrics\n",
    "from sklearn.metrics import accuracy_score, confusion_matrix, classification_report, plot_confusion_matrix"
   ]
  },
  {
   "cell_type": "code",
   "execution_count": 35,
   "metadata": {
    "id": "C2C-Lvg0LmRj"
   },
   "outputs": [],
   "source": [
    "#Split the dataset\n",
    "from sklearn.model_selection import train_test_split"
   ]
  },
  {
   "cell_type": "markdown",
   "metadata": {
    "id": "nGllrlSIMlCl"
   },
   "source": [
    "### Build feature from text"
   ]
  },
  {
   "cell_type": "code",
   "execution_count": 36,
   "metadata": {
    "id": "OUVMwcv8Mh5R"
   },
   "outputs": [],
   "source": [
    "Xfeature = emotions[\"Clean_Text\"]\n",
    "ylabels = emotions[\"Emotion\"]"
   ]
  },
  {
   "cell_type": "code",
   "execution_count": 37,
   "metadata": {
    "id": "mON42Tc4MuMp"
   },
   "outputs": [],
   "source": [
    "# Vectorization\n",
    "cv = CountVectorizer()\n",
    "X = cv.fit_transform(Xfeature).toarray()\n",
    "\n",
    "#cv = CountVectorizer(max_features=5000,ngram_range=(1,3))\n",
    "#X = cv.fit_transform(corpus).toarray()"
   ]
  },
  {
   "cell_type": "code",
   "execution_count": 38,
   "metadata": {
    "colab": {
     "base_uri": "https://localhost:8080/"
    },
    "id": "R2xoQ2DRMvLp",
    "outputId": "d9a796ad-6062-40a7-aaef-2c67073bac02",
    "scrolled": true
   },
   "outputs": [
    {
     "data": {
      "text/plain": [
       "['aa',\n",
       " 'aaaaaaand',\n",
       " 'aaaaand',\n",
       " 'aaaah',\n",
       " 'aaaand',\n",
       " 'aac',\n",
       " 'aahhh',\n",
       " 'aaron',\n",
       " 'ab',\n",
       " 'abandon',\n",
       " 'abandoned',\n",
       " 'abandoning',\n",
       " 'abandonment',\n",
       " 'abated',\n",
       " 'abba',\n",
       " 'abbigail',\n",
       " 'abc',\n",
       " 'abd',\n",
       " 'abdomen',\n",
       " 'abdominal',\n",
       " 'abducted',\n",
       " 'abelard',\n",
       " 'abhorrent',\n",
       " 'abide',\n",
       " 'abigail',\n",
       " 'ability',\n",
       " 'abit',\n",
       " 'abjectly',\n",
       " 'able',\n",
       " 'ableness',\n",
       " 'ablo',\n",
       " 'abnormally',\n",
       " 'aboard',\n",
       " 'abolitionist',\n",
       " 'abominable',\n",
       " 'abortion',\n",
       " 'abou',\n",
       " 'abound',\n",
       " 'abraham',\n",
       " 'abroad',\n",
       " 'abruptly',\n",
       " 'absence',\n",
       " 'absoloutely',\n",
       " 'absolute',\n",
       " 'absolutely',\n",
       " 'absolutly',\n",
       " 'absorbed',\n",
       " 'absorption',\n",
       " 'abstain',\n",
       " 'abstinence',\n",
       " 'abstract',\n",
       " 'absurd',\n",
       " 'absurdity',\n",
       " 'absurdly',\n",
       " 'abt',\n",
       " 'abu',\n",
       " 'abundance',\n",
       " 'abundantly',\n",
       " 'abus',\n",
       " 'abuse',\n",
       " 'abused',\n",
       " 'abusing',\n",
       " 'abusive',\n",
       " 'abyss',\n",
       " 'ac',\n",
       " 'academia',\n",
       " 'academic',\n",
       " 'academy',\n",
       " 'acause',\n",
       " 'accelerated',\n",
       " 'accent',\n",
       " 'accentuating',\n",
       " 'accept',\n",
       " 'acceptable',\n",
       " 'acceptance',\n",
       " 'accepted',\n",
       " 'accepting',\n",
       " 'accepts',\n",
       " 'access',\n",
       " 'accessary',\n",
       " 'accessibility',\n",
       " 'accessible',\n",
       " 'accessory',\n",
       " 'accident',\n",
       " 'accidentally',\n",
       " 'acclimated',\n",
       " 'acco',\n",
       " 'accommodate',\n",
       " 'accommodation',\n",
       " 'accompanied',\n",
       " 'accompaniment',\n",
       " 'accompany',\n",
       " 'accomplish',\n",
       " 'accomplished',\n",
       " 'accomplishing',\n",
       " 'accomplishment',\n",
       " 'accord',\n",
       " 'accordance',\n",
       " 'according',\n",
       " 'accordingly',\n",
       " 'account',\n",
       " 'accountant',\n",
       " 'accounted',\n",
       " 'accrue',\n",
       " 'acctually',\n",
       " 'accumulate',\n",
       " 'accumulated',\n",
       " 'accumulation',\n",
       " 'accurate',\n",
       " 'accurately',\n",
       " 'accusation',\n",
       " 'accused',\n",
       " 'accuser',\n",
       " 'accuses',\n",
       " 'accusing',\n",
       " 'accustomed',\n",
       " 'ace',\n",
       " 'ache',\n",
       " 'ached',\n",
       " 'acheivment',\n",
       " 'achieve',\n",
       " 'achieved',\n",
       " 'achievement',\n",
       " 'achieving',\n",
       " 'aching',\n",
       " 'achy',\n",
       " 'acid',\n",
       " 'acim',\n",
       " 'acker',\n",
       " 'acknowledge',\n",
       " 'acknowledged',\n",
       " 'acknowledgement',\n",
       " 'acknowledgment',\n",
       " 'acne',\n",
       " 'aconfident',\n",
       " 'acquaint',\n",
       " 'acquaintance',\n",
       " 'acquainted',\n",
       " 'acquire',\n",
       " 'acquired',\n",
       " 'acquit',\n",
       " 'acronym',\n",
       " 'across',\n",
       " 'act',\n",
       " 'actauly',\n",
       " 'acted',\n",
       " 'acting',\n",
       " 'action',\n",
       " 'activation',\n",
       " 'active',\n",
       " 'actively',\n",
       " 'activism',\n",
       " 'activist',\n",
       " 'activity',\n",
       " 'actor',\n",
       " 'actress',\n",
       " 'actual',\n",
       " 'actuality',\n",
       " 'actually',\n",
       " 'acuity',\n",
       " 'acumen',\n",
       " 'acute',\n",
       " 'acutely',\n",
       " 'ad',\n",
       " 'adam',\n",
       " 'adapt',\n",
       " 'adapted',\n",
       " 'adaption',\n",
       " 'add',\n",
       " 'added',\n",
       " 'addict',\n",
       " 'addicted',\n",
       " 'addiction',\n",
       " 'addictive',\n",
       " 'adding',\n",
       " 'addison',\n",
       " 'addisons',\n",
       " 'addition',\n",
       " 'additional',\n",
       " 'additionally',\n",
       " 'addled',\n",
       " 'address',\n",
       " 'addressed',\n",
       " 'addressing',\n",
       " 'ade',\n",
       " 'adequate',\n",
       " 'adequately',\n",
       " 'adf',\n",
       " 'adhere',\n",
       " 'adherence',\n",
       " 'adjectival',\n",
       " 'adjective',\n",
       " 'adjoining',\n",
       " 'adjust',\n",
       " 'adjusting',\n",
       " 'adjustment',\n",
       " 'admin',\n",
       " 'administration',\n",
       " 'administrator',\n",
       " 'admiral',\n",
       " 'admiration',\n",
       " 'admire',\n",
       " 'admired',\n",
       " 'admires',\n",
       " 'admiring',\n",
       " 'admission',\n",
       " 'admit',\n",
       " 'admits',\n",
       " 'admittance',\n",
       " 'admitted',\n",
       " 'admittedly',\n",
       " 'admitting',\n",
       " 'adn',\n",
       " 'adolescence',\n",
       " 'adomen',\n",
       " 'adopt',\n",
       " 'adopted',\n",
       " 'adopting',\n",
       " 'adoption',\n",
       " 'adorable',\n",
       " 'adoration',\n",
       " 'adore',\n",
       " 'adored',\n",
       " 'adores',\n",
       " 'adoring',\n",
       " 'adorns',\n",
       " 'adrasteius',\n",
       " 'adrenaline',\n",
       " 'adress',\n",
       " 'adrian',\n",
       " 'adrift',\n",
       " 'adsense',\n",
       " 'adult',\n",
       " 'adulth',\n",
       " 'adulthood',\n",
       " 'advance',\n",
       " 'advanced',\n",
       " 'advancement',\n",
       " 'advantage',\n",
       " 'advent',\n",
       " 'adventure',\n",
       " 'adventurous',\n",
       " 'adversary',\n",
       " 'adverse',\n",
       " 'adversely',\n",
       " 'advert',\n",
       " 'advertised',\n",
       " 'advertisement',\n",
       " 'advertises',\n",
       " 'advertising',\n",
       " 'advertorial',\n",
       " 'advice',\n",
       " 'advil',\n",
       " 'advise',\n",
       " 'adviser',\n",
       " 'advocacy',\n",
       " 'advocate',\n",
       " 'advocating',\n",
       " 'aesthetic',\n",
       " 'af',\n",
       " 'afaerytaleinmakebelieve',\n",
       " 'afar',\n",
       " 'aff',\n",
       " 'affair',\n",
       " 'affeccion',\n",
       " 'affect',\n",
       " 'affected',\n",
       " 'affecti',\n",
       " 'affecting',\n",
       " 'affection',\n",
       " 'affectionate',\n",
       " 'affectionately',\n",
       " 'affend',\n",
       " 'affiliate',\n",
       " 'affirm',\n",
       " 'affirmation',\n",
       " 'affirmative',\n",
       " 'affirmed',\n",
       " 'afford',\n",
       " 'affordable',\n",
       " 'affords',\n",
       " 'affron',\n",
       " 'affronted',\n",
       " 'afghan',\n",
       " 'aficionado',\n",
       " 'afield',\n",
       " 'aforementioned',\n",
       " 'afp',\n",
       " 'afrad',\n",
       " 'afrade',\n",
       " 'afraid',\n",
       " 'africa',\n",
       " 'african',\n",
       " 'aftereffect',\n",
       " 'aftermath',\n",
       " 'afternoon',\n",
       " 'afterward',\n",
       " 'afterwards',\n",
       " 'ag',\n",
       " 'aga',\n",
       " 'agai',\n",
       " 'agape',\n",
       " 'age',\n",
       " 'aged',\n",
       " 'ageing',\n",
       " 'agency',\n",
       " 'agenda',\n",
       " 'agent',\n",
       " 'aggie',\n",
       " 'aggrandisement',\n",
       " 'aggravated',\n",
       " 'aggravating',\n",
       " 'aggression',\n",
       " 'aggressive',\n",
       " 'aggressiven',\n",
       " 'agi',\n",
       " 'agiatated',\n",
       " 'agility',\n",
       " 'aging',\n",
       " 'agitat',\n",
       " 'agitated',\n",
       " 'agn',\n",
       " 'agnes',\n",
       " 'agnostic',\n",
       " 'ago',\n",
       " 'agonised',\n",
       " 'agonising',\n",
       " 'agonized',\n",
       " 'agony',\n",
       " 'agoraphobic',\n",
       " 'agree',\n",
       " 'agreed',\n",
       " 'agreeing',\n",
       " 'agreement',\n",
       " 'agtalk',\n",
       " 'ah',\n",
       " 'ahaha',\n",
       " 'ahahahaha',\n",
       " 'ahead',\n",
       " 'ahem',\n",
       " 'ahhh',\n",
       " 'ahkman',\n",
       " 'ahmed',\n",
       " 'ai',\n",
       " 'aid',\n",
       " 'aided',\n",
       " 'aiiiiighhhht',\n",
       " 'ailment',\n",
       " 'aim',\n",
       " 'aimed',\n",
       " 'aiming',\n",
       " 'aimless',\n",
       " 'aimlessly',\n",
       " 'aint',\n",
       " 'air',\n",
       " 'airbrushing',\n",
       " 'airbus',\n",
       " 'aircleaner',\n",
       " 'aircraft',\n",
       " 'airlin',\n",
       " 'airline',\n",
       " 'airplane',\n",
       " 'airport',\n",
       " 'airritated',\n",
       " 'airtime',\n",
       " 'aisl',\n",
       " 'aisle',\n",
       " 'aiw',\n",
       " 'aj',\n",
       " 'ajahn',\n",
       " 'ajmed',\n",
       " 'aka',\n",
       " 'akin',\n",
       " 'akron',\n",
       " 'akshay',\n",
       " 'aku',\n",
       " 'akward',\n",
       " 'al',\n",
       " 'ala',\n",
       " 'alabama',\n",
       " 'alain',\n",
       " 'alan',\n",
       " 'alarm',\n",
       " 'alarmed',\n",
       " 'alarming',\n",
       " 'alaska',\n",
       " 'alba',\n",
       " 'albeit',\n",
       " 'albert',\n",
       " 'albino',\n",
       " 'album',\n",
       " 'albuquerque',\n",
       " 'alcest',\n",
       " 'alcohol',\n",
       " 'alcoholic',\n",
       " 'alcoholism',\n",
       " 'alcove',\n",
       " 'ald',\n",
       " 'aldridge',\n",
       " 'alec',\n",
       " 'alene',\n",
       " 'alert',\n",
       " 'alertness',\n",
       " 'alex',\n",
       " 'alexa',\n",
       " 'alexander',\n",
       " 'alexandra',\n",
       " 'alexei',\n",
       " 'alexis',\n",
       " 'alfed',\n",
       " 'alfie',\n",
       " 'alfred',\n",
       " 'algebra',\n",
       " 'algorithmic',\n",
       " 'alhamdulillah',\n",
       " 'ali',\n",
       " 'alibi',\n",
       " 'alic',\n",
       " 'alice',\n",
       " 'alien',\n",
       " 'alight',\n",
       " 'align',\n",
       " 'aligncenter',\n",
       " 'alignment',\n",
       " 'alise',\n",
       " 'alittle',\n",
       " 'alive',\n",
       " 'allah',\n",
       " 'allan',\n",
       " 'allegation',\n",
       " 'alleging',\n",
       " 'allen',\n",
       " 'allergen',\n",
       " 'allergic',\n",
       " 'allergy',\n",
       " 'alleviate',\n",
       " 'alley',\n",
       " 'alli',\n",
       " 'alliance',\n",
       " 'alll',\n",
       " 'allocated',\n",
       " 'allotted',\n",
       " 'allow',\n",
       " 'allowable',\n",
       " 'allowance',\n",
       " 'allowed',\n",
       " 'allowfullscreen',\n",
       " 'allowing',\n",
       " 'allows',\n",
       " 'alls',\n",
       " 'allthingsbucks',\n",
       " 'allusion',\n",
       " 'ally',\n",
       " 'almond',\n",
       " 'almost',\n",
       " 'aloft',\n",
       " 'alon',\n",
       " 'alone',\n",
       " 'along',\n",
       " 'alonger',\n",
       " 'alongside',\n",
       " 'aloof',\n",
       " 'alot',\n",
       " 'alotta',\n",
       " 'alphabet',\n",
       " 'alre',\n",
       " 'already',\n",
       " 'alright',\n",
       " 'also',\n",
       " 'alsways',\n",
       " 'alt',\n",
       " 'altar',\n",
       " 'alteration',\n",
       " 'altered',\n",
       " 'altering',\n",
       " 'alternate',\n",
       " 'alternated',\n",
       " 'alternating',\n",
       " 'alternative',\n",
       " 'although',\n",
       " 'altitude',\n",
       " 'altogether',\n",
       " 'alton',\n",
       " 'aluminum',\n",
       " 'alumninium',\n",
       " 'alva',\n",
       " 'alway',\n",
       " 'always',\n",
       " 'ama',\n",
       " 'amalgamation',\n",
       " 'amateur',\n",
       " 'amazed',\n",
       " 'amazement',\n",
       " 'amazing',\n",
       " 'amazingly',\n",
       " 'amazingness',\n",
       " 'amazon',\n",
       " 'ambassador',\n",
       " 'amber',\n",
       " 'ambience',\n",
       " 'ambient',\n",
       " 'ambition',\n",
       " 'ambitious',\n",
       " 'ambleside',\n",
       " 'ambulance',\n",
       " 'ambulatory',\n",
       " 'ambushed',\n",
       " 'amd',\n",
       " 'amendment',\n",
       " 'amenity',\n",
       " 'america',\n",
       " 'american',\n",
       " 'americana',\n",
       " 'amid',\n",
       " 'amidst',\n",
       " 'amish',\n",
       " 'amisha',\n",
       " 'amiss',\n",
       " 'amits',\n",
       " 'amkris',\n",
       " 'amma',\n",
       " 'amman',\n",
       " 'among',\n",
       " 'amongst',\n",
       " 'amorous',\n",
       " 'amorphous',\n",
       " 'amos',\n",
       " 'amount',\n",
       " 'amounting',\n",
       " 'amp',\n",
       " 'amparo',\n",
       " 'ampatuan',\n",
       " 'amped',\n",
       " 'amphetamine',\n",
       " 'ample',\n",
       " 'amplified',\n",
       " 'amplifies',\n",
       " 'amsterdam',\n",
       " 'amud',\n",
       " 'amus',\n",
       " 'amused',\n",
       " 'amusem',\n",
       " 'amusement',\n",
       " 'amusing',\n",
       " 'amvassago',\n",
       " 'amy',\n",
       " 'ana',\n",
       " 'anaestheti',\n",
       " 'anaesthetic',\n",
       " 'anal',\n",
       " 'analogy',\n",
       " 'analyse',\n",
       " 'analysing',\n",
       " 'analysis',\n",
       " 'analyze',\n",
       " 'analyzed',\n",
       " 'analyzing',\n",
       " 'anansi',\n",
       " 'anatomy',\n",
       " 'ancestral',\n",
       " 'anchorage',\n",
       " 'ancient',\n",
       " 'andangry',\n",
       " 'andare',\n",
       " 'anderson',\n",
       " 'andintrupte',\n",
       " 'andover',\n",
       " 'andrea',\n",
       " 'andreas',\n",
       " 'andrew',\n",
       " 'andri',\n",
       " 'andrus',\n",
       " 'andthenwear',\n",
       " 'andy',\n",
       " 'anesthetized',\n",
       " 'ang',\n",
       " 'angalo',\n",
       " 'angee',\n",
       " 'angel',\n",
       " 'angeles',\n",
       " 'angelic',\n",
       " 'anger',\n",
       " 'angered',\n",
       " 'angie',\n",
       " 'angle',\n",
       " 'angled',\n",
       " 'angry',\n",
       " 'angst',\n",
       " 'angsty',\n",
       " 'anguis',\n",
       " 'anguish',\n",
       " 'anguished',\n",
       " 'anha',\n",
       " 'anim',\n",
       " 'animal',\n",
       " 'animate',\n",
       " 'animated',\n",
       " 'animator',\n",
       " 'anime',\n",
       " 'animesh',\n",
       " 'animosity',\n",
       " 'anipike',\n",
       " 'ankle',\n",
       " 'anklet',\n",
       " 'ann',\n",
       " 'anna',\n",
       " 'annabel',\n",
       " 'anne',\n",
       " 'annie',\n",
       " 'anniversary',\n",
       " 'annotating',\n",
       " 'annotation',\n",
       " 'announce',\n",
       " 'announced',\n",
       " 'announcement',\n",
       " 'announcing',\n",
       " 'annoy',\n",
       " 'annoya',\n",
       " 'annoyance',\n",
       " 'annoyed',\n",
       " 'annoying',\n",
       " 'annoyingly',\n",
       " 'annual',\n",
       " 'annulled',\n",
       " 'annulment',\n",
       " 'annus',\n",
       " 'ano',\n",
       " 'anon',\n",
       " 'anonymity',\n",
       " 'anonymous',\n",
       " 'anotehr',\n",
       " 'another',\n",
       " 'anothers',\n",
       " 'ansi',\n",
       " 'answer',\n",
       " 'answered',\n",
       " 'answering',\n",
       " 'ant',\n",
       " 'antagonism',\n",
       " 'anthem',\n",
       " 'anthology',\n",
       " 'anthony',\n",
       " 'anti',\n",
       " 'antic',\n",
       " 'anticipated',\n",
       " 'anticipating',\n",
       " 'anticipation',\n",
       " 'antidepressant',\n",
       " 'antidote',\n",
       " 'antipasti',\n",
       " 'antique',\n",
       " 'antiquity',\n",
       " 'antisocial',\n",
       " 'antivirus',\n",
       " 'antm',\n",
       " 'antoinette',\n",
       " 'antonio',\n",
       " 'antonios',\n",
       " 'antsy',\n",
       " 'anxiety',\n",
       " 'anxio',\n",
       " 'anxious',\n",
       " 'anxiously',\n",
       " 'anybody',\n",
       " 'anyhow',\n",
       " 'anymmore',\n",
       " 'anymore',\n",
       " 'anyone',\n",
       " 'anyones',\n",
       " 'anything',\n",
       " 'anythings',\n",
       " 'anyway',\n",
       " 'anyways',\n",
       " 'anywhere',\n",
       " 'aoa',\n",
       " 'aoi',\n",
       " 'aol',\n",
       " 'aoshi',\n",
       " 'aout',\n",
       " 'ap',\n",
       " 'apa',\n",
       " 'apart',\n",
       " 'apartment',\n",
       " 'apathetic',\n",
       " 'apathy',\n",
       " 'apawa',\n",
       " 'apaya',\n",
       " 'apc',\n",
       " 'apendages',\n",
       " 'apgujeong',\n",
       " 'aplin',\n",
       " 'apo',\n",
       " 'apocalypse',\n",
       " 'apologetic',\n",
       " 'apologise',\n",
       " 'apologize',\n",
       " 'apologizes',\n",
       " 'apologizing',\n",
       " 'apology',\n",
       " 'apoplectic',\n",
       " 'apostrophe',\n",
       " 'apothecary',\n",
       " 'app',\n",
       " 'appalled',\n",
       " 'apparent',\n",
       " 'apparently',\n",
       " 'appeal',\n",
       " 'appealing',\n",
       " 'appear',\n",
       " 'appearanc',\n",
       " 'appearance',\n",
       " 'appeared',\n",
       " 'appearing',\n",
       " 'appears',\n",
       " 'appease',\n",
       " 'appeased',\n",
       " 'appetite',\n",
       " 'applainces',\n",
       " 'applause',\n",
       " 'apple',\n",
       " 'applebees',\n",
       " 'application',\n",
       " 'applied',\n",
       " 'apply',\n",
       " 'applying',\n",
       " 'appointed',\n",
       " 'appointment',\n",
       " 'apprecia',\n",
       " 'appreciate',\n",
       " 'appreciated',\n",
       " 'appreciates',\n",
       " 'appreciation',\n",
       " 'appreciative',\n",
       " 'apprehension',\n",
       " 'apprehensive',\n",
       " 'appriciation',\n",
       " 'apprised',\n",
       " 'approach',\n",
       " 'approached',\n",
       " 'approaching',\n",
       " 'appropriate',\n",
       " 'appropriately',\n",
       " 'approval',\n",
       " 'approve',\n",
       " 'approx',\n",
       " 'approximate',\n",
       " 'approximately',\n",
       " 'apps',\n",
       " 'appts',\n",
       " 'apraxia',\n",
       " 'april',\n",
       " 'apron',\n",
       " 'apt',\n",
       " 'ar',\n",
       " 'arab',\n",
       " 'arabia',\n",
       " 'araminta',\n",
       " 'arc',\n",
       " 'arca',\n",
       " 'arcade',\n",
       " 'arch',\n",
       " 'archbishop',\n",
       " 'archdiocese',\n",
       " 'arched',\n",
       " 'archeological',\n",
       " 'architect',\n",
       " 'architectural',\n",
       " 'architecturally',\n",
       " 'ardmore',\n",
       " 'area',\n",
       " 'arena',\n",
       " 'arent',\n",
       " 'aretha',\n",
       " 'arguably',\n",
       " 'argue',\n",
       " 'argued',\n",
       " 'arguing',\n",
       " 'argume',\n",
       " 'argument',\n",
       " 'ari',\n",
       " 'arialblue',\n",
       " 'ariel',\n",
       " 'arise',\n",
       " 'arist',\n",
       " 'aristophanes',\n",
       " 'arlovski',\n",
       " 'arm',\n",
       " 'armani',\n",
       " 'armed',\n",
       " 'armenian',\n",
       " 'armistice',\n",
       " 'armor',\n",
       " 'armoury',\n",
       " 'armpit',\n",
       " 'army',\n",
       " 'arnold',\n",
       " 'aroma',\n",
       " 'arose',\n",
       " 'arou',\n",
       " 'around',\n",
       " 'arouse',\n",
       " 'aroused',\n",
       " 'arousing',\n",
       " 'arrange',\n",
       " 'arranged',\n",
       " 'arrangement',\n",
       " 'arrangment',\n",
       " 'array',\n",
       " 'arrested',\n",
       " 'arrises',\n",
       " 'arriva',\n",
       " 'arrival',\n",
       " 'arrive',\n",
       " 'arrived',\n",
       " 'arrives',\n",
       " 'arriving',\n",
       " 'arrogance',\n",
       " 'arrogant',\n",
       " 'arrow',\n",
       " 'arse',\n",
       " 'arsenal',\n",
       " 'art',\n",
       " 'artefact',\n",
       " 'article',\n",
       " 'articulacy',\n",
       " 'articulate',\n",
       " 'articulated',\n",
       " 'articulating',\n",
       " 'artifically',\n",
       " 'artificial',\n",
       " 'artificially',\n",
       " 'artillery',\n",
       " 'artisan',\n",
       " 'artist',\n",
       " 'artistic',\n",
       " 'artistry',\n",
       " 'artwork',\n",
       " 'arty',\n",
       " 'arugh',\n",
       " 'arun',\n",
       " 'arvo',\n",
       " 'aryan',\n",
       " 'aryiku',\n",
       " 'as',\n",
       " 'asa',\n",
       " 'asami',\n",
       " 'asasoulawakens',\n",
       " 'asbestos',\n",
       " 'ascension',\n",
       " 'asciatic',\n",
       " 'asd',\n",
       " 'ash',\n",
       " 'ashame',\n",
       " 'ashamed',\n",
       " 'ashers',\n",
       " 'ashi',\n",
       " 'ashley',\n",
       " 'ashlotte',\n",
       " 'ashraf',\n",
       " 'ashton',\n",
       " 'ashtray',\n",
       " 'asian',\n",
       " 'aside',\n",
       " 'ask',\n",
       " 'asked',\n",
       " 'askin',\n",
       " 'asking',\n",
       " 'asks',\n",
       " 'aslee',\n",
       " 'asleep',\n",
       " 'aslef',\n",
       " 'asma',\n",
       " 'aspect',\n",
       " 'aspi',\n",
       " 'aspieness',\n",
       " 'aspire',\n",
       " 'ass',\n",
       " 'assassinated',\n",
       " 'assault',\n",
       " 'assaulted',\n",
       " 'assaulting',\n",
       " 'assemble',\n",
       " 'assembled',\n",
       " 'assembly',\n",
       " 'assert',\n",
       " 'asserted',\n",
       " 'asserting',\n",
       " 'assertion',\n",
       " 'assertive',\n",
       " 'assessed',\n",
       " 'assessment',\n",
       " 'assessor',\n",
       " 'asset',\n",
       " 'asshole',\n",
       " 'assignment',\n",
       " 'assimilated',\n",
       " 'assist',\n",
       " 'assistance',\n",
       " 'assistant',\n",
       " 'assistat',\n",
       " 'associate',\n",
       " 'associated',\n",
       " 'association',\n",
       " 'assortment',\n",
       " 'assuage',\n",
       " 'assume',\n",
       " 'assumed',\n",
       " 'assuming',\n",
       " 'assumption',\n",
       " 'assurance',\n",
       " 'assure',\n",
       " 'assured',\n",
       " 'assuredly',\n",
       " 'asthma',\n",
       " 'aston',\n",
       " 'astoni',\n",
       " 'astonishe',\n",
       " 'astonished',\n",
       " 'astonishment',\n",
       " 'astounded',\n",
       " 'astray',\n",
       " 'asylum',\n",
       " 'ata',\n",
       " 'atari',\n",
       " 'ate',\n",
       " 'atelier',\n",
       " 'atell',\n",
       " 'atention',\n",
       " 'ath',\n",
       " 'athe',\n",
       " 'atheism',\n",
       " 'atheist',\n",
       " 'athelstan',\n",
       " 'atherton',\n",
       " 'athf',\n",
       " 'athlete',\n",
       " 'athletic',\n",
       " 'athletically',\n",
       " 'athleticism',\n",
       " 'athletics',\n",
       " 'atiqah',\n",
       " 'ativan',\n",
       " 'atlanta',\n",
       " 'atlantic',\n",
       " 'atleast',\n",
       " 'atlephobia',\n",
       " 'atletico',\n",
       " 'atm',\n",
       " 'atmosphere',\n",
       " 'atmospheric',\n",
       " 'atom',\n",
       " 'atomic',\n",
       " 'atop',\n",
       " 'atoshealthcare',\n",
       " 'atrocious',\n",
       " 'atrocity',\n",
       " 'atrophy',\n",
       " 'attach',\n",
       " 'attached',\n",
       " 'attachment',\n",
       " 'attack',\n",
       " 'attacked',\n",
       " 'attacking',\n",
       " 'attain',\n",
       " 'attainable',\n",
       " 'attaining',\n",
       " 'attempt',\n",
       " 'attempted',\n",
       " 'attempting',\n",
       " 'attend',\n",
       " 'attended',\n",
       " 'attending',\n",
       " 'attention',\n",
       " 'attic',\n",
       " 'atticus',\n",
       " 'attire',\n",
       " 'attitude',\n",
       " 'attorney',\n",
       " 'attract',\n",
       " 'attracted',\n",
       " 'attraction',\n",
       " 'attractive',\n",
       " 'attribute',\n",
       " 'attributed',\n",
       " 'attuned',\n",
       " 'au',\n",
       " 'aubrey',\n",
       " 'auburn',\n",
       " 'auction',\n",
       " 'audacity',\n",
       " 'audie',\n",
       " 'audien',\n",
       " 'audience',\n",
       " 'audio',\n",
       " 'audiobooks',\n",
       " 'auditorium',\n",
       " 'audre',\n",
       " 'audrey',\n",
       " 'auggie',\n",
       " 'augu',\n",
       " ...]"
      ]
     },
     "execution_count": 38,
     "metadata": {},
     "output_type": "execute_result"
    }
   ],
   "source": [
    "# Get Features By Name\n",
    "cv.get_feature_names()"
   ]
  },
  {
   "cell_type": "code",
   "execution_count": 39,
   "metadata": {
    "id": "U_AFD3usNoKH"
   },
   "outputs": [],
   "source": [
    "#split Dataset\n",
    "X_train,X_test,y_train,y_test = train_test_split(X,ylabels,test_size = 0.3, random_state = 42)"
   ]
  },
  {
   "cell_type": "markdown",
   "metadata": {
    "id": "eXXKEwuqOFzx"
   },
   "source": [
    "### Build Model\n"
   ]
  },
  {
   "cell_type": "code",
   "execution_count": 40,
   "metadata": {},
   "outputs": [],
   "source": [
    "# For predicting emotion of a sample text \n",
    "def predict_emotion(sample_text,model):\n",
    "  myvect = cv.transform(sample_text).toarray()\n",
    "  prediction = model.predict(myvect)\n",
    "  pred_proba = model.predict_proba(myvect)\n",
    "  pred_percentage_for_all = dict(zip(model.classes_,pred_proba[0]))\n",
    "  print(\"Prediction : {}, Prediction_Score : {}\".format(prediction[0],np.max(pred_proba)))\n",
    "  print(prediction[0])\n",
    "\n",
    "  return pred_percentage_for_all"
   ]
  },
  {
   "cell_type": "markdown",
   "metadata": {},
   "source": [
    "#### Naive Bayes\n"
   ]
  },
  {
   "cell_type": "code",
   "execution_count": 41,
   "metadata": {
    "colab": {
     "base_uri": "https://localhost:8080/"
    },
    "id": "DGZRmjksOBv8",
    "outputId": "8ce81d13-9e0d-44ad-df17-2c58d04d2e36"
   },
   "outputs": [
    {
     "data": {
      "text/plain": [
       "MultinomialNB()"
      ]
     },
     "execution_count": 41,
     "metadata": {},
     "output_type": "execute_result"
    }
   ],
   "source": [
    "nv_model = MultinomialNB()\n",
    "nv_model.fit(X_train,y_train)"
   ]
  },
  {
   "cell_type": "code",
   "execution_count": 42,
   "metadata": {
    "id": "-u6So5ajOqP0"
   },
   "outputs": [
    {
     "data": {
      "text/plain": [
       "array(['joy'], dtype='<U8')"
      ]
     },
     "execution_count": 42,
     "metadata": {},
     "output_type": "execute_result"
    }
   ],
   "source": [
    "#Making a Single Prediction\n",
    "sample_text = [\"I am so happy to get admission in my favourite university \"]\n",
    "vect = cv.transform(sample_text).toarray()\n",
    "#Make Prediction\n",
    "nv_model.predict(vect)"
   ]
  },
  {
   "cell_type": "code",
   "execution_count": 43,
   "metadata": {
    "colab": {
     "base_uri": "https://localhost:8080/"
    },
    "id": "5AKpc3JEPDE9",
    "outputId": "2e67dfc7-81d5-4b07-a601-5f5c59239e5e"
   },
   "outputs": [
    {
     "data": {
      "text/plain": [
       "array([[0.00759725, 0.00465942, 0.36805479, 0.57244111, 0.01363531,\n",
       "        0.03212331, 0.0014888 ]])"
      ]
     },
     "execution_count": 43,
     "metadata": {},
     "output_type": "execute_result"
    }
   ],
   "source": [
    "# Check for the Prediction Probability / Confidence score\n",
    "nv_model.predict_proba(vect)"
   ]
  },
  {
   "cell_type": "code",
   "execution_count": 44,
   "metadata": {
    "colab": {
     "base_uri": "https://localhost:8080/"
    },
    "id": "scGBSs93Q49s",
    "outputId": "0430776c-4a0d-4d8e-9821-aa801aa149a3"
   },
   "outputs": [
    {
     "name": "stdout",
     "output_type": "stream",
     "text": [
      "Prediction : joy, Prediction_Score : 0.57244111246217\n",
      "joy\n"
     ]
    },
    {
     "data": {
      "text/plain": [
       "{'anger': 0.007597251669733516,\n",
       " 'fear': 0.004659424250720152,\n",
       " 'happy': 0.36805479140742325,\n",
       " 'joy': 0.57244111246217,\n",
       " 'love': 0.013635313069833049,\n",
       " 'sadness': 0.03212331172508266,\n",
       " 'surprise': 0.001488795415039886}"
      ]
     },
     "execution_count": 44,
     "metadata": {},
     "output_type": "execute_result"
    }
   ],
   "source": [
    "predict_emotion(sample_text,nv_model)"
   ]
  },
  {
   "cell_type": "markdown",
   "metadata": {
    "id": "1PQz8MiMSsoc"
   },
   "source": [
    "##### Model Evaluation - Naive Bayes\n",
    "\n"
   ]
  },
  {
   "cell_type": "code",
   "execution_count": 45,
   "metadata": {},
   "outputs": [],
   "source": [
    "y_pred_for_nv = nv_model.predict(X_test)"
   ]
  },
  {
   "cell_type": "code",
   "execution_count": 46,
   "metadata": {
    "colab": {
     "base_uri": "https://localhost:8080/"
    },
    "id": "IdotXoIVSdya",
    "outputId": "c88a3518-9da1-4042-a60f-5b8c7a25f4ee"
   },
   "outputs": [
    {
     "name": "stdout",
     "output_type": "stream",
     "text": [
      "              precision    recall  f1-score   support\n",
      "\n",
      "       anger       0.92      0.83      0.87      1697\n",
      "        fear       0.86      0.84      0.85      1496\n",
      "       happy       0.23      0.20      0.22      2123\n",
      "         joy       0.23      0.25      0.24      1969\n",
      "        love       0.91      0.71      0.80      1020\n",
      "     sadness       0.80      0.96      0.88      3660\n",
      "    surprise       0.82      0.37      0.51       473\n",
      "\n",
      "    accuracy                           0.64     12438\n",
      "   macro avg       0.68      0.59      0.62     12438\n",
      "weighted avg       0.65      0.64      0.64     12438\n",
      "\n"
     ]
    }
   ],
   "source": [
    "#Classification Report\n",
    "print(classification_report(y_test,y_pred_for_nv))"
   ]
  },
  {
   "cell_type": "code",
   "execution_count": 47,
   "metadata": {
    "colab": {
     "base_uri": "https://localhost:8080/",
     "height": 296
    },
    "id": "AJ5PDsaKS92A",
    "outputId": "8deaff79-b2d0-4f23-f18f-7a069b38b3b2"
   },
   "outputs": [
    {
     "data": {
      "text/plain": [
       "<sklearn.metrics._plot.confusion_matrix.ConfusionMatrixDisplay at 0x21f02be0548>"
      ]
     },
     "execution_count": 47,
     "metadata": {},
     "output_type": "execute_result"
    },
    {
     "data": {
      "image/png": "[encoded data removed]",
      "text/plain": [
       "<Figure size 432x288 with 2 Axes>"
      ]
     },
     "metadata": {
      "needs_background": "light"
     },
     "output_type": "display_data"
    }
   ],
   "source": [
    "#Confusion Matrix\n",
    "plot_confusion_matrix(nv_model,X_test,y_test)"
   ]
  },
  {
   "cell_type": "markdown",
   "metadata": {},
   "source": [
    "### Logistics Regression"
   ]
  },
  {
   "cell_type": "code",
   "execution_count": 48,
   "metadata": {},
   "outputs": [
    {
     "name": "stderr",
     "output_type": "stream",
     "text": [
      "C:\\Users\\HP\\.conda\\envs\\emotion-detect\\lib\\site-packages\\sklearn\\linear_model\\_logistic.py:765: ConvergenceWarning: lbfgs failed to converge (status=1):\n",
      "STOP: TOTAL NO. of ITERATIONS REACHED LIMIT.\n",
      "\n",
      "Increase the number of iterations (max_iter) or scale the data as shown in:\n",
      "    https://scikit-learn.org/stable/modules/preprocessing.html\n",
      "Please also refer to the documentation for alternative solver options:\n",
      "    https://scikit-learn.org/stable/modules/linear_model.html#logistic-regression\n",
      "  extra_warning_msg=_LOGISTIC_SOLVER_CONVERGENCE_MSG)\n"
     ]
    },
    {
     "data": {
      "text/plain": [
       "LogisticRegression()"
      ]
     },
     "execution_count": 48,
     "metadata": {},
     "output_type": "execute_result"
    }
   ],
   "source": [
    "lr_model = LogisticRegression()\n",
    "lr_model.fit(X_train,y_train)"
   ]
  },
  {
   "cell_type": "code",
   "execution_count": 49,
   "metadata": {
    "id": "JaAPGFCEJn_n"
   },
   "outputs": [
    {
     "data": {
      "text/plain": [
       "0.702765717961087"
      ]
     },
     "execution_count": 49,
     "metadata": {},
     "output_type": "execute_result"
    }
   ],
   "source": [
    "# Accuracy \n",
    "lr_model.score(X_test,y_test)"
   ]
  },
  {
   "cell_type": "markdown",
   "metadata": {},
   "source": [
    "### SVM"
   ]
  },
  {
   "cell_type": "code",
   "execution_count": 50,
   "metadata": {},
   "outputs": [
    {
     "ename": "MemoryError",
     "evalue": "Unable to allocate 3.68 GiB for an array with shape (29021, 17025) and data type float64",
     "output_type": "error",
     "traceback": [
      "\u001b[1;31m---------------------------------------------------------------------------\u001b[0m",
      "\u001b[1;31mMemoryError\u001b[0m                               Traceback (most recent call last)",
      "\u001b[1;32m~\\AppData\\Local\\Temp/ipykernel_4636/1435114166.py\u001b[0m in \u001b[0;36m<module>\u001b[1;34m\u001b[0m\n\u001b[0;32m      1\u001b[0m \u001b[0mlsvm\u001b[0m \u001b[1;33m=\u001b[0m \u001b[0mSGDClassifier\u001b[0m\u001b[1;33m(\u001b[0m\u001b[0malpha\u001b[0m\u001b[1;33m=\u001b[0m\u001b[1;36m0.001\u001b[0m\u001b[1;33m,\u001b[0m \u001b[0mrandom_state\u001b[0m\u001b[1;33m=\u001b[0m\u001b[1;36m5\u001b[0m\u001b[1;33m,\u001b[0m \u001b[0mmax_iter\u001b[0m\u001b[1;33m=\u001b[0m\u001b[1;36m15\u001b[0m\u001b[1;33m,\u001b[0m \u001b[0mtol\u001b[0m\u001b[1;33m=\u001b[0m\u001b[1;32mNone\u001b[0m\u001b[1;33m)\u001b[0m\u001b[1;33m\u001b[0m\u001b[1;33m\u001b[0m\u001b[0m\n\u001b[1;32m----> 2\u001b[1;33m \u001b[0mlsvm\u001b[0m\u001b[1;33m.\u001b[0m\u001b[0mfit\u001b[0m\u001b[1;33m(\u001b[0m\u001b[0mX_train\u001b[0m\u001b[1;33m,\u001b[0m \u001b[0my_train\u001b[0m\u001b[1;33m)\u001b[0m\u001b[1;33m\u001b[0m\u001b[1;33m\u001b[0m\u001b[0m\n\u001b[0m\u001b[0;32m      3\u001b[0m \u001b[0my_pred\u001b[0m \u001b[1;33m=\u001b[0m \u001b[0mlsvm\u001b[0m\u001b[1;33m.\u001b[0m\u001b[0mpredict\u001b[0m\u001b[1;33m(\u001b[0m\u001b[0mX_test\u001b[0m\u001b[1;33m)\u001b[0m\u001b[1;33m\u001b[0m\u001b[1;33m\u001b[0m\u001b[0m\n\u001b[0;32m      4\u001b[0m \u001b[0mprint\u001b[0m\u001b[1;33m(\u001b[0m\u001b[1;34m'svm using tfidf accuracy %s'\u001b[0m \u001b[1;33m%\u001b[0m \u001b[0maccuracy_score\u001b[0m\u001b[1;33m(\u001b[0m\u001b[0my_pred\u001b[0m\u001b[1;33m,\u001b[0m \u001b[0my_test\u001b[0m\u001b[1;33m)\u001b[0m\u001b[1;33m)\u001b[0m\u001b[1;33m\u001b[0m\u001b[1;33m\u001b[0m\u001b[0m\n",
      "\u001b[1;32m~\\.conda\\envs\\emotion-detect\\lib\\site-packages\\sklearn\\linear_model\\_stochastic_gradient.py\u001b[0m in \u001b[0;36mfit\u001b[1;34m(self, X, y, coef_init, intercept_init, sample_weight)\u001b[0m\n\u001b[0;32m    730\u001b[0m                          \u001b[0mloss\u001b[0m\u001b[1;33m=\u001b[0m\u001b[0mself\u001b[0m\u001b[1;33m.\u001b[0m\u001b[0mloss\u001b[0m\u001b[1;33m,\u001b[0m \u001b[0mlearning_rate\u001b[0m\u001b[1;33m=\u001b[0m\u001b[0mself\u001b[0m\u001b[1;33m.\u001b[0m\u001b[0mlearning_rate\u001b[0m\u001b[1;33m,\u001b[0m\u001b[1;33m\u001b[0m\u001b[1;33m\u001b[0m\u001b[0m\n\u001b[0;32m    731\u001b[0m                          \u001b[0mcoef_init\u001b[0m\u001b[1;33m=\u001b[0m\u001b[0mcoef_init\u001b[0m\u001b[1;33m,\u001b[0m \u001b[0mintercept_init\u001b[0m\u001b[1;33m=\u001b[0m\u001b[0mintercept_init\u001b[0m\u001b[1;33m,\u001b[0m\u001b[1;33m\u001b[0m\u001b[1;33m\u001b[0m\u001b[0m\n\u001b[1;32m--> 732\u001b[1;33m                          sample_weight=sample_weight)\n\u001b[0m\u001b[0;32m    733\u001b[0m \u001b[1;33m\u001b[0m\u001b[0m\n\u001b[0;32m    734\u001b[0m \u001b[1;33m\u001b[0m\u001b[0m\n",
      "\u001b[1;32m~\\.conda\\envs\\emotion-detect\\lib\\site-packages\\sklearn\\linear_model\\_stochastic_gradient.py\u001b[0m in \u001b[0;36m_fit\u001b[1;34m(self, X, y, alpha, C, loss, learning_rate, coef_init, intercept_init, sample_weight)\u001b[0m\n\u001b[0;32m    543\u001b[0m         X, y = self._validate_data(X, y, accept_sparse='csr',\n\u001b[0;32m    544\u001b[0m                                    \u001b[0mdtype\u001b[0m\u001b[1;33m=\u001b[0m\u001b[0mnp\u001b[0m\u001b[1;33m.\u001b[0m\u001b[0mfloat64\u001b[0m\u001b[1;33m,\u001b[0m \u001b[0morder\u001b[0m\u001b[1;33m=\u001b[0m\u001b[1;34m\"C\"\u001b[0m\u001b[1;33m,\u001b[0m\u001b[1;33m\u001b[0m\u001b[1;33m\u001b[0m\u001b[0m\n\u001b[1;32m--> 545\u001b[1;33m                                    accept_large_sparse=False)\n\u001b[0m\u001b[0;32m    546\u001b[0m \u001b[1;33m\u001b[0m\u001b[0m\n\u001b[0;32m    547\u001b[0m         \u001b[1;31m# labels can be encoded as float, int, or string literals\u001b[0m\u001b[1;33m\u001b[0m\u001b[1;33m\u001b[0m\u001b[1;33m\u001b[0m\u001b[0m\n",
      "\u001b[1;32m~\\.conda\\envs\\emotion-detect\\lib\\site-packages\\sklearn\\base.py\u001b[0m in \u001b[0;36m_validate_data\u001b[1;34m(self, X, y, reset, validate_separately, **check_params)\u001b[0m\n\u001b[0;32m    431\u001b[0m                 \u001b[0my\u001b[0m \u001b[1;33m=\u001b[0m \u001b[0mcheck_array\u001b[0m\u001b[1;33m(\u001b[0m\u001b[0my\u001b[0m\u001b[1;33m,\u001b[0m \u001b[1;33m**\u001b[0m\u001b[0mcheck_y_params\u001b[0m\u001b[1;33m)\u001b[0m\u001b[1;33m\u001b[0m\u001b[1;33m\u001b[0m\u001b[0m\n\u001b[0;32m    432\u001b[0m             \u001b[1;32melse\u001b[0m\u001b[1;33m:\u001b[0m\u001b[1;33m\u001b[0m\u001b[1;33m\u001b[0m\u001b[0m\n\u001b[1;32m--> 433\u001b[1;33m                 \u001b[0mX\u001b[0m\u001b[1;33m,\u001b[0m \u001b[0my\u001b[0m \u001b[1;33m=\u001b[0m \u001b[0mcheck_X_y\u001b[0m\u001b[1;33m(\u001b[0m\u001b[0mX\u001b[0m\u001b[1;33m,\u001b[0m \u001b[0my\u001b[0m\u001b[1;33m,\u001b[0m \u001b[1;33m**\u001b[0m\u001b[0mcheck_params\u001b[0m\u001b[1;33m)\u001b[0m\u001b[1;33m\u001b[0m\u001b[1;33m\u001b[0m\u001b[0m\n\u001b[0m\u001b[0;32m    434\u001b[0m             \u001b[0mout\u001b[0m \u001b[1;33m=\u001b[0m \u001b[0mX\u001b[0m\u001b[1;33m,\u001b[0m \u001b[0my\u001b[0m\u001b[1;33m\u001b[0m\u001b[1;33m\u001b[0m\u001b[0m\n\u001b[0;32m    435\u001b[0m \u001b[1;33m\u001b[0m\u001b[0m\n",
      "\u001b[1;32m~\\.conda\\envs\\emotion-detect\\lib\\site-packages\\sklearn\\utils\\validation.py\u001b[0m in \u001b[0;36minner_f\u001b[1;34m(*args, **kwargs)\u001b[0m\n\u001b[0;32m     61\u001b[0m             \u001b[0mextra_args\u001b[0m \u001b[1;33m=\u001b[0m \u001b[0mlen\u001b[0m\u001b[1;33m(\u001b[0m\u001b[0margs\u001b[0m\u001b[1;33m)\u001b[0m \u001b[1;33m-\u001b[0m \u001b[0mlen\u001b[0m\u001b[1;33m(\u001b[0m\u001b[0mall_args\u001b[0m\u001b[1;33m)\u001b[0m\u001b[1;33m\u001b[0m\u001b[1;33m\u001b[0m\u001b[0m\n\u001b[0;32m     62\u001b[0m             \u001b[1;32mif\u001b[0m \u001b[0mextra_args\u001b[0m \u001b[1;33m<=\u001b[0m \u001b[1;36m0\u001b[0m\u001b[1;33m:\u001b[0m\u001b[1;33m\u001b[0m\u001b[1;33m\u001b[0m\u001b[0m\n\u001b[1;32m---> 63\u001b[1;33m                 \u001b[1;32mreturn\u001b[0m \u001b[0mf\u001b[0m\u001b[1;33m(\u001b[0m\u001b[1;33m*\u001b[0m\u001b[0margs\u001b[0m\u001b[1;33m,\u001b[0m \u001b[1;33m**\u001b[0m\u001b[0mkwargs\u001b[0m\u001b[1;33m)\u001b[0m\u001b[1;33m\u001b[0m\u001b[1;33m\u001b[0m\u001b[0m\n\u001b[0m\u001b[0;32m     64\u001b[0m \u001b[1;33m\u001b[0m\u001b[0m\n\u001b[0;32m     65\u001b[0m             \u001b[1;31m# extra_args > 0\u001b[0m\u001b[1;33m\u001b[0m\u001b[1;33m\u001b[0m\u001b[1;33m\u001b[0m\u001b[0m\n",
      "\u001b[1;32m~\\.conda\\envs\\emotion-detect\\lib\\site-packages\\sklearn\\utils\\validation.py\u001b[0m in \u001b[0;36mcheck_X_y\u001b[1;34m(X, y, accept_sparse, accept_large_sparse, dtype, order, copy, force_all_finite, ensure_2d, allow_nd, multi_output, ensure_min_samples, ensure_min_features, y_numeric, estimator)\u001b[0m\n\u001b[0;32m    876\u001b[0m                     \u001b[0mensure_min_samples\u001b[0m\u001b[1;33m=\u001b[0m\u001b[0mensure_min_samples\u001b[0m\u001b[1;33m,\u001b[0m\u001b[1;33m\u001b[0m\u001b[1;33m\u001b[0m\u001b[0m\n\u001b[0;32m    877\u001b[0m                     \u001b[0mensure_min_features\u001b[0m\u001b[1;33m=\u001b[0m\u001b[0mensure_min_features\u001b[0m\u001b[1;33m,\u001b[0m\u001b[1;33m\u001b[0m\u001b[1;33m\u001b[0m\u001b[0m\n\u001b[1;32m--> 878\u001b[1;33m                     estimator=estimator)\n\u001b[0m\u001b[0;32m    879\u001b[0m     \u001b[1;32mif\u001b[0m \u001b[0mmulti_output\u001b[0m\u001b[1;33m:\u001b[0m\u001b[1;33m\u001b[0m\u001b[1;33m\u001b[0m\u001b[0m\n\u001b[0;32m    880\u001b[0m         y = check_array(y, accept_sparse='csr', force_all_finite=True,\n",
      "\u001b[1;32m~\\.conda\\envs\\emotion-detect\\lib\\site-packages\\sklearn\\utils\\validation.py\u001b[0m in \u001b[0;36minner_f\u001b[1;34m(*args, **kwargs)\u001b[0m\n\u001b[0;32m     61\u001b[0m             \u001b[0mextra_args\u001b[0m \u001b[1;33m=\u001b[0m \u001b[0mlen\u001b[0m\u001b[1;33m(\u001b[0m\u001b[0margs\u001b[0m\u001b[1;33m)\u001b[0m \u001b[1;33m-\u001b[0m \u001b[0mlen\u001b[0m\u001b[1;33m(\u001b[0m\u001b[0mall_args\u001b[0m\u001b[1;33m)\u001b[0m\u001b[1;33m\u001b[0m\u001b[1;33m\u001b[0m\u001b[0m\n\u001b[0;32m     62\u001b[0m             \u001b[1;32mif\u001b[0m \u001b[0mextra_args\u001b[0m \u001b[1;33m<=\u001b[0m \u001b[1;36m0\u001b[0m\u001b[1;33m:\u001b[0m\u001b[1;33m\u001b[0m\u001b[1;33m\u001b[0m\u001b[0m\n\u001b[1;32m---> 63\u001b[1;33m                 \u001b[1;32mreturn\u001b[0m \u001b[0mf\u001b[0m\u001b[1;33m(\u001b[0m\u001b[1;33m*\u001b[0m\u001b[0margs\u001b[0m\u001b[1;33m,\u001b[0m \u001b[1;33m**\u001b[0m\u001b[0mkwargs\u001b[0m\u001b[1;33m)\u001b[0m\u001b[1;33m\u001b[0m\u001b[1;33m\u001b[0m\u001b[0m\n\u001b[0m\u001b[0;32m     64\u001b[0m \u001b[1;33m\u001b[0m\u001b[0m\n\u001b[0;32m     65\u001b[0m             \u001b[1;31m# extra_args > 0\u001b[0m\u001b[1;33m\u001b[0m\u001b[1;33m\u001b[0m\u001b[1;33m\u001b[0m\u001b[0m\n",
      "\u001b[1;32m~\\.conda\\envs\\emotion-detect\\lib\\site-packages\\sklearn\\utils\\validation.py\u001b[0m in \u001b[0;36mcheck_array\u001b[1;34m(array, accept_sparse, accept_large_sparse, dtype, order, copy, force_all_finite, ensure_2d, allow_nd, ensure_min_samples, ensure_min_features, estimator)\u001b[0m\n\u001b[0;32m    671\u001b[0m                     \u001b[0marray\u001b[0m \u001b[1;33m=\u001b[0m \u001b[0marray\u001b[0m\u001b[1;33m.\u001b[0m\u001b[0mastype\u001b[0m\u001b[1;33m(\u001b[0m\u001b[0mdtype\u001b[0m\u001b[1;33m,\u001b[0m \u001b[0mcasting\u001b[0m\u001b[1;33m=\u001b[0m\u001b[1;34m\"unsafe\"\u001b[0m\u001b[1;33m,\u001b[0m \u001b[0mcopy\u001b[0m\u001b[1;33m=\u001b[0m\u001b[1;32mFalse\u001b[0m\u001b[1;33m)\u001b[0m\u001b[1;33m\u001b[0m\u001b[1;33m\u001b[0m\u001b[0m\n\u001b[0;32m    672\u001b[0m                 \u001b[1;32melse\u001b[0m\u001b[1;33m:\u001b[0m\u001b[1;33m\u001b[0m\u001b[1;33m\u001b[0m\u001b[0m\n\u001b[1;32m--> 673\u001b[1;33m                     \u001b[0marray\u001b[0m \u001b[1;33m=\u001b[0m \u001b[0mnp\u001b[0m\u001b[1;33m.\u001b[0m\u001b[0masarray\u001b[0m\u001b[1;33m(\u001b[0m\u001b[0marray\u001b[0m\u001b[1;33m,\u001b[0m \u001b[0morder\u001b[0m\u001b[1;33m=\u001b[0m\u001b[0morder\u001b[0m\u001b[1;33m,\u001b[0m \u001b[0mdtype\u001b[0m\u001b[1;33m=\u001b[0m\u001b[0mdtype\u001b[0m\u001b[1;33m)\u001b[0m\u001b[1;33m\u001b[0m\u001b[1;33m\u001b[0m\u001b[0m\n\u001b[0m\u001b[0;32m    674\u001b[0m             \u001b[1;32mexcept\u001b[0m \u001b[0mComplexWarning\u001b[0m \u001b[1;32mas\u001b[0m \u001b[0mcomplex_warning\u001b[0m\u001b[1;33m:\u001b[0m\u001b[1;33m\u001b[0m\u001b[1;33m\u001b[0m\u001b[0m\n\u001b[0;32m    675\u001b[0m                 raise ValueError(\"Complex data not supported\\n\"\n",
      "\u001b[1;32m~\\.conda\\envs\\emotion-detect\\lib\\site-packages\\numpy\\core\\_asarray.py\u001b[0m in \u001b[0;36masarray\u001b[1;34m(a, dtype, order)\u001b[0m\n\u001b[0;32m     81\u001b[0m \u001b[1;33m\u001b[0m\u001b[0m\n\u001b[0;32m     82\u001b[0m     \"\"\"\n\u001b[1;32m---> 83\u001b[1;33m     \u001b[1;32mreturn\u001b[0m \u001b[0marray\u001b[0m\u001b[1;33m(\u001b[0m\u001b[0ma\u001b[0m\u001b[1;33m,\u001b[0m \u001b[0mdtype\u001b[0m\u001b[1;33m,\u001b[0m \u001b[0mcopy\u001b[0m\u001b[1;33m=\u001b[0m\u001b[1;32mFalse\u001b[0m\u001b[1;33m,\u001b[0m \u001b[0morder\u001b[0m\u001b[1;33m=\u001b[0m\u001b[0morder\u001b[0m\u001b[1;33m)\u001b[0m\u001b[1;33m\u001b[0m\u001b[1;33m\u001b[0m\u001b[0m\n\u001b[0m\u001b[0;32m     84\u001b[0m \u001b[1;33m\u001b[0m\u001b[0m\n\u001b[0;32m     85\u001b[0m \u001b[1;33m\u001b[0m\u001b[0m\n",
      "\u001b[1;31mMemoryError\u001b[0m: Unable to allocate 3.68 GiB for an array with shape (29021, 17025) and data type float64"
     ]
    }
   ],
   "source": [
    "lsvm = SGDClassifier(alpha=0.001, random_state=5, max_iter=15, tol=None)\n",
    "lsvm.fit(X_train, y_train)\n",
    "y_pred = lsvm.predict(X_test)\n",
    "print('svm using tfidf accuracy %s' % accuracy_score(y_pred, y_test))"
   ]
  },
  {
   "cell_type": "markdown",
   "metadata": {},
   "source": [
    "### Model Interpretation"
   ]
  },
  {
   "cell_type": "code",
   "execution_count": null,
   "metadata": {
    "id": "IEyhriq4Jn_o"
   },
   "outputs": [],
   "source": [
    "import eli5"
   ]
  },
  {
   "cell_type": "code",
   "execution_count": null,
   "metadata": {
    "id": "hUx3sICXJn_o"
   },
   "outputs": [],
   "source": [
    "class_names = ylabels.unique().tolist()\n",
    "class_names"
   ]
  },
  {
   "cell_type": "code",
   "execution_count": null,
   "metadata": {
    "id": "gzzYCxGWJn_o"
   },
   "outputs": [],
   "source": [
    "feature_names = cv.get_feature_names()"
   ]
  },
  {
   "cell_type": "code",
   "execution_count": null,
   "metadata": {
    "id": "ejBEbrxnJn_o"
   },
   "outputs": [],
   "source": [
    "\n",
    "eli5.show_weights(lr_model,feature_names=feature_names,target_names=class_names)"
   ]
  },
  {
   "cell_type": "markdown",
   "metadata": {},
   "source": [
    "## Save Model"
   ]
  },
  {
   "cell_type": "code",
   "execution_count": null,
   "metadata": {
    "id": "NVy7bF12Jn_p"
   },
   "outputs": [],
   "source": [
    "import joblib"
   ]
  },
  {
   "cell_type": "code",
   "execution_count": null,
   "metadata": {},
   "outputs": [],
   "source": [
    "model_file = open(\"emotion_classifier_ml_model.pkl\",\"wb\")\n",
    "joblib.dump(nv_model,model_file)\n",
    "model_file.close()"
   ]
  }
 ],
 "metadata": {
  "colab": {
   "collapsed_sections": [],
   "name": "Text_Emotion_Detection_using_ML.ipynb",
   "provenance": []
  },
  "kernelspec": {
   "display_name": "Python 3 (ipykernel)",
   "language": "python",
   "name": "python3"
  },
  "language_info": {
   "codemirror_mode": {
    "name": "ipython",
    "version": 3
   },
   "file_extension": ".py",
   "mimetype": "text/x-python",
   "name": "python",
   "nbconvert_exporter": "python",
   "pygments_lexer": "ipython3",
   "version": "3.7.11"
  }
 },
 "nbformat": 4,
 "nbformat_minor": 1
}
